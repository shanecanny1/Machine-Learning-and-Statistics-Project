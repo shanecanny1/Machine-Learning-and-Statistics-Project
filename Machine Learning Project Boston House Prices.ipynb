{
 "cells": [
  {
   "cell_type": "markdown",
   "metadata": {},
   "source": [
    "# Machine Learning Project 2019\n",
    "## Author; Shane Canny\n",
    "## Project Title; Analysis of the Boston House Price Data Set"
   ]
  },
  {
   "cell_type": "markdown",
   "metadata": {},
   "source": [
    "## Introduction. ##\n",
    "\n",
    "The following report documents the analysis of the 2019 Machine Learning module project. The project requirements are broken into three sections:\n",
    "\n",
    "1. **Describe:** Use descriptive statistics and plots to describe the Boston House Prices dataset.\n",
    "2. **Infer:** Use inferential statistics to analyse whether there is a signiﬁcant diﬀerence in median house prices between houses that are along the Charles river and those that aren’t.\n",
    "3. **Predict:** Use keras to create a neural network that can predict the median house price based on the other variables in the dataset. \n",
    "\n",
    "**Pre-requistes**\n",
    "\n",
    "A number of pre-requistes have to be completed prior to formally conducting analysis on the Boston House Price Data Set. These pre-requistes can be broken down into the following requirements:\n",
    "\n",
    "1. Import Python Libraries / Packages that maybe required during the analysis of the data set.\n",
    "2. Importing the data set from sklearn library.\n",
    "3. Once the data set is imported, listing the data set to understand what is inlcuded in the raw data.\n",
    "\n",
    "Once the pre-requistes have been met organising the data into a format that can be used to output descriptive statistics and allow inferences to be made can be undertake."
   ]
  },
  {
   "cell_type": "markdown",
   "metadata": {},
   "source": [
    "**Pre-Requiste 1**\n",
    "\n",
    "The first pre-requiste is to import the required python packages to conduct analysis on the Boston House Price data set. The line items below list the python libraries imported to allow analysis of the data set."
   ]
  },
  {
   "cell_type": "code",
   "execution_count": 1,
   "metadata": {},
   "outputs": [
    {
     "name": "stderr",
     "output_type": "stream",
     "text": [
      "Using TensorFlow backend.\n"
     ]
    }
   ],
   "source": [
    "## Importing the required libraries for required for later analysis##\n",
    "import numpy as np\n",
    "import pandas as pd\n",
    "import scipy.stats as stats\n",
    "import matplotlib.pyplot as plt\n",
    "import sklearn\n",
    "import statsmodels.api as sm\n",
    "import seaborn as sns\n",
    "import keras as ks\n",
    "from keras.models import Sequential\n",
    "from statsmodels.graphics.gofplots import qqplot"
   ]
  },
  {
   "cell_type": "markdown",
   "metadata": {},
   "source": [
    "**Pre-Requiste 2**\n",
    "\n",
    "The second pre-requiste is met with the following line items of code. The Boston House Price data set is imported from sklearn as load_boston and renamed as \"boston\" for future analysis.\n",
    "\n",
    "To visualise what the data set is made up of, variables were set against the dictionary keys and the variables where printed. "
   ]
  },
  {
   "cell_type": "code",
   "execution_count": 2,
   "metadata": {},
   "outputs": [],
   "source": [
    "## Importing the data set from the internal sklearn library within Pythion ##\n",
    "\n",
    "from sklearn.datasets import load_boston\n",
    "boston = load_boston()"
   ]
  },
  {
   "cell_type": "code",
   "execution_count": 3,
   "metadata": {},
   "outputs": [
    {
     "name": "stdout",
     "output_type": "stream",
     "text": [
      "dict_keys(['data', 'target', 'feature_names', 'DESCR', 'filename'])\n"
     ]
    }
   ],
   "source": [
    "## As the file is a dictionary, printing the dictionary keys ##\n",
    "x=boston.keys()\n",
    "print (x)"
   ]
  },
  {
   "cell_type": "markdown",
   "metadata": {},
   "source": [
    "**Pre-Requiste 3**\n",
    "\n",
    "The thirde and final pre-requiste is content with the following lines. The pre-requistes data preparation steps to allow the author to understand what the data set is made up of and also the basis for creating dataframes that can be edited, graphed and manipulated for the purposes of data analysis."
   ]
  },
  {
   "cell_type": "code",
   "execution_count": 4,
   "metadata": {},
   "outputs": [
    {
     "name": "stdout",
     "output_type": "stream",
     "text": [
      "['CRIM' 'ZN' 'INDUS' 'CHAS' 'NOX' 'RM' 'AGE' 'DIS' 'RAD' 'TAX' 'PTRATIO'\n",
      " 'B' 'LSTAT']\n"
     ]
    }
   ],
   "source": [
    "print(boston.feature_names)"
   ]
  },
  {
   "cell_type": "code",
   "execution_count": 5,
   "metadata": {},
   "outputs": [
    {
     "name": "stdout",
     "output_type": "stream",
     "text": [
      ".. _boston_dataset:\n",
      "\n",
      "Boston house prices dataset\n",
      "---------------------------\n",
      "\n",
      "**Data Set Characteristics:**  \n",
      "\n",
      "    :Number of Instances: 506 \n",
      "\n",
      "    :Number of Attributes: 13 numeric/categorical predictive. Median Value (attribute 14) is usually the target.\n",
      "\n",
      "    :Attribute Information (in order):\n",
      "        - CRIM     per capita crime rate by town\n",
      "        - ZN       proportion of residential land zoned for lots over 25,000 sq.ft.\n",
      "        - INDUS    proportion of non-retail business acres per town\n",
      "        - CHAS     Charles River dummy variable (= 1 if tract bounds river; 0 otherwise)\n",
      "        - NOX      nitric oxides concentration (parts per 10 million)\n",
      "        - RM       average number of rooms per dwelling\n",
      "        - AGE      proportion of owner-occupied units built prior to 1940\n",
      "        - DIS      weighted distances to five Boston employment centres\n",
      "        - RAD      index of accessibility to radial highways\n",
      "        - TAX      full-value property-tax rate per $10,000\n",
      "        - PTRATIO  pupil-teacher ratio by town\n",
      "        - B        1000(Bk - 0.63)^2 where Bk is the proportion of blacks by town\n",
      "        - LSTAT    % lower status of the population\n",
      "        - MEDV     Median value of owner-occupied homes in $1000's\n",
      "\n",
      "    :Missing Attribute Values: None\n",
      "\n",
      "    :Creator: Harrison, D. and Rubinfeld, D.L.\n",
      "\n",
      "This is a copy of UCI ML housing dataset.\n",
      "https://archive.ics.uci.edu/ml/machine-learning-databases/housing/\n",
      "\n",
      "\n",
      "This dataset was taken from the StatLib library which is maintained at Carnegie Mellon University.\n",
      "\n",
      "The Boston house-price data of Harrison, D. and Rubinfeld, D.L. 'Hedonic\n",
      "prices and the demand for clean air', J. Environ. Economics & Management,\n",
      "vol.5, 81-102, 1978.   Used in Belsley, Kuh & Welsch, 'Regression diagnostics\n",
      "...', Wiley, 1980.   N.B. Various transformations are used in the table on\n",
      "pages 244-261 of the latter.\n",
      "\n",
      "The Boston house-price data has been used in many machine learning papers that address regression\n",
      "problems.   \n",
      "     \n",
      ".. topic:: References\n",
      "\n",
      "   - Belsley, Kuh & Welsch, 'Regression diagnostics: Identifying Influential Data and Sources of Collinearity', Wiley, 1980. 244-261.\n",
      "   - Quinlan,R. (1993). Combining Instance-Based and Model-Based Learning. In Proceedings on the Tenth International Conference of Machine Learning, 236-243, University of Massachusetts, Amherst. Morgan Kaufmann.\n",
      "\n"
     ]
    }
   ],
   "source": [
    "print(boston.DESCR)"
   ]
  },
  {
   "cell_type": "code",
   "execution_count": 6,
   "metadata": {},
   "outputs": [],
   "source": [
    "## For later manipluation creating a pandas dataframe of the data set, setting the variable as house ##\n",
    "house = pd.DataFrame(boston.data)"
   ]
  },
  {
   "cell_type": "code",
   "execution_count": 7,
   "metadata": {},
   "outputs": [],
   "source": [
    "## Setting each column to its correct designation ##\n",
    "house.columns=boston.feature_names"
   ]
  },
  {
   "cell_type": "code",
   "execution_count": 8,
   "metadata": {},
   "outputs": [],
   "source": [
    "## Adding the 14th Column i.e. target to Price\n",
    "house['PRICE'] = boston.target"
   ]
  },
  {
   "cell_type": "code",
   "execution_count": 9,
   "metadata": {},
   "outputs": [],
   "source": [
    "## Creating a new DataFrame of the original house price ##\n",
    "Original_House_Price=house['PRICE']\n",
    "\n",
    "## Renaming Columns Names for Clarity ##\n",
    "Original_House_Price.columns = ['Combined Price of Houses']"
   ]
  },
  {
   "cell_type": "code",
   "execution_count": 10,
   "metadata": {},
   "outputs": [],
   "source": [
    "## Exporting the dataframe to an external location as a .csv file\n",
    "export_csv=house.to_csv(r'C:\\Users\\Shane\\Desktop\\2019 Projects\\Machine Learning\\bostonhouse.csv')"
   ]
  },
  {
   "cell_type": "markdown",
   "metadata": {},
   "source": [
    "**Describe**\n",
    "\n",
    "The first part of the machine learning project is to use descriptive statistics to describe the Boston House Price data set. Below the \"describe\" command is used to provide a simple break down of the primary hands on statistics in relation to the Boston House Price data set.\n",
    "\n",
    "A fundamental process in trying to understand what the data implies is using visual aids such as graphs and plots to help hypothesis relationships within the data set. "
   ]
  },
  {
   "cell_type": "code",
   "execution_count": 11,
   "metadata": {},
   "outputs": [
    {
     "data": {
      "text/html": [
       "<div>\n",
       "<style scoped>\n",
       "    .dataframe tbody tr th:only-of-type {\n",
       "        vertical-align: middle;\n",
       "    }\n",
       "\n",
       "    .dataframe tbody tr th {\n",
       "        vertical-align: top;\n",
       "    }\n",
       "\n",
       "    .dataframe thead th {\n",
       "        text-align: right;\n",
       "    }\n",
       "</style>\n",
       "<table border=\"1\" class=\"dataframe\">\n",
       "  <thead>\n",
       "    <tr style=\"text-align: right;\">\n",
       "      <th></th>\n",
       "      <th>CRIM</th>\n",
       "      <th>ZN</th>\n",
       "      <th>INDUS</th>\n",
       "      <th>CHAS</th>\n",
       "      <th>NOX</th>\n",
       "      <th>RM</th>\n",
       "      <th>AGE</th>\n",
       "      <th>DIS</th>\n",
       "      <th>RAD</th>\n",
       "      <th>TAX</th>\n",
       "      <th>PTRATIO</th>\n",
       "      <th>B</th>\n",
       "      <th>LSTAT</th>\n",
       "      <th>PRICE</th>\n",
       "    </tr>\n",
       "  </thead>\n",
       "  <tbody>\n",
       "    <tr>\n",
       "      <th>count</th>\n",
       "      <td>506.000000</td>\n",
       "      <td>506.000000</td>\n",
       "      <td>506.000000</td>\n",
       "      <td>506.000000</td>\n",
       "      <td>506.000000</td>\n",
       "      <td>506.000000</td>\n",
       "      <td>506.000000</td>\n",
       "      <td>506.000000</td>\n",
       "      <td>506.000000</td>\n",
       "      <td>506.000000</td>\n",
       "      <td>506.000000</td>\n",
       "      <td>506.000000</td>\n",
       "      <td>506.000000</td>\n",
       "      <td>506.000000</td>\n",
       "    </tr>\n",
       "    <tr>\n",
       "      <th>mean</th>\n",
       "      <td>3.613524</td>\n",
       "      <td>11.363636</td>\n",
       "      <td>11.136779</td>\n",
       "      <td>0.069170</td>\n",
       "      <td>0.554695</td>\n",
       "      <td>6.284634</td>\n",
       "      <td>68.574901</td>\n",
       "      <td>3.795043</td>\n",
       "      <td>9.549407</td>\n",
       "      <td>408.237154</td>\n",
       "      <td>18.455534</td>\n",
       "      <td>356.674032</td>\n",
       "      <td>12.653063</td>\n",
       "      <td>22.532806</td>\n",
       "    </tr>\n",
       "    <tr>\n",
       "      <th>std</th>\n",
       "      <td>8.601545</td>\n",
       "      <td>23.322453</td>\n",
       "      <td>6.860353</td>\n",
       "      <td>0.253994</td>\n",
       "      <td>0.115878</td>\n",
       "      <td>0.702617</td>\n",
       "      <td>28.148861</td>\n",
       "      <td>2.105710</td>\n",
       "      <td>8.707259</td>\n",
       "      <td>168.537116</td>\n",
       "      <td>2.164946</td>\n",
       "      <td>91.294864</td>\n",
       "      <td>7.141062</td>\n",
       "      <td>9.197104</td>\n",
       "    </tr>\n",
       "    <tr>\n",
       "      <th>min</th>\n",
       "      <td>0.006320</td>\n",
       "      <td>0.000000</td>\n",
       "      <td>0.460000</td>\n",
       "      <td>0.000000</td>\n",
       "      <td>0.385000</td>\n",
       "      <td>3.561000</td>\n",
       "      <td>2.900000</td>\n",
       "      <td>1.129600</td>\n",
       "      <td>1.000000</td>\n",
       "      <td>187.000000</td>\n",
       "      <td>12.600000</td>\n",
       "      <td>0.320000</td>\n",
       "      <td>1.730000</td>\n",
       "      <td>5.000000</td>\n",
       "    </tr>\n",
       "    <tr>\n",
       "      <th>25%</th>\n",
       "      <td>0.082045</td>\n",
       "      <td>0.000000</td>\n",
       "      <td>5.190000</td>\n",
       "      <td>0.000000</td>\n",
       "      <td>0.449000</td>\n",
       "      <td>5.885500</td>\n",
       "      <td>45.025000</td>\n",
       "      <td>2.100175</td>\n",
       "      <td>4.000000</td>\n",
       "      <td>279.000000</td>\n",
       "      <td>17.400000</td>\n",
       "      <td>375.377500</td>\n",
       "      <td>6.950000</td>\n",
       "      <td>17.025000</td>\n",
       "    </tr>\n",
       "    <tr>\n",
       "      <th>50%</th>\n",
       "      <td>0.256510</td>\n",
       "      <td>0.000000</td>\n",
       "      <td>9.690000</td>\n",
       "      <td>0.000000</td>\n",
       "      <td>0.538000</td>\n",
       "      <td>6.208500</td>\n",
       "      <td>77.500000</td>\n",
       "      <td>3.207450</td>\n",
       "      <td>5.000000</td>\n",
       "      <td>330.000000</td>\n",
       "      <td>19.050000</td>\n",
       "      <td>391.440000</td>\n",
       "      <td>11.360000</td>\n",
       "      <td>21.200000</td>\n",
       "    </tr>\n",
       "    <tr>\n",
       "      <th>75%</th>\n",
       "      <td>3.677083</td>\n",
       "      <td>12.500000</td>\n",
       "      <td>18.100000</td>\n",
       "      <td>0.000000</td>\n",
       "      <td>0.624000</td>\n",
       "      <td>6.623500</td>\n",
       "      <td>94.075000</td>\n",
       "      <td>5.188425</td>\n",
       "      <td>24.000000</td>\n",
       "      <td>666.000000</td>\n",
       "      <td>20.200000</td>\n",
       "      <td>396.225000</td>\n",
       "      <td>16.955000</td>\n",
       "      <td>25.000000</td>\n",
       "    </tr>\n",
       "    <tr>\n",
       "      <th>max</th>\n",
       "      <td>88.976200</td>\n",
       "      <td>100.000000</td>\n",
       "      <td>27.740000</td>\n",
       "      <td>1.000000</td>\n",
       "      <td>0.871000</td>\n",
       "      <td>8.780000</td>\n",
       "      <td>100.000000</td>\n",
       "      <td>12.126500</td>\n",
       "      <td>24.000000</td>\n",
       "      <td>711.000000</td>\n",
       "      <td>22.000000</td>\n",
       "      <td>396.900000</td>\n",
       "      <td>37.970000</td>\n",
       "      <td>50.000000</td>\n",
       "    </tr>\n",
       "  </tbody>\n",
       "</table>\n",
       "</div>"
      ],
      "text/plain": [
       "             CRIM          ZN       INDUS        CHAS         NOX          RM  \\\n",
       "count  506.000000  506.000000  506.000000  506.000000  506.000000  506.000000   \n",
       "mean     3.613524   11.363636   11.136779    0.069170    0.554695    6.284634   \n",
       "std      8.601545   23.322453    6.860353    0.253994    0.115878    0.702617   \n",
       "min      0.006320    0.000000    0.460000    0.000000    0.385000    3.561000   \n",
       "25%      0.082045    0.000000    5.190000    0.000000    0.449000    5.885500   \n",
       "50%      0.256510    0.000000    9.690000    0.000000    0.538000    6.208500   \n",
       "75%      3.677083   12.500000   18.100000    0.000000    0.624000    6.623500   \n",
       "max     88.976200  100.000000   27.740000    1.000000    0.871000    8.780000   \n",
       "\n",
       "              AGE         DIS         RAD         TAX     PTRATIO           B  \\\n",
       "count  506.000000  506.000000  506.000000  506.000000  506.000000  506.000000   \n",
       "mean    68.574901    3.795043    9.549407  408.237154   18.455534  356.674032   \n",
       "std     28.148861    2.105710    8.707259  168.537116    2.164946   91.294864   \n",
       "min      2.900000    1.129600    1.000000  187.000000   12.600000    0.320000   \n",
       "25%     45.025000    2.100175    4.000000  279.000000   17.400000  375.377500   \n",
       "50%     77.500000    3.207450    5.000000  330.000000   19.050000  391.440000   \n",
       "75%     94.075000    5.188425   24.000000  666.000000   20.200000  396.225000   \n",
       "max    100.000000   12.126500   24.000000  711.000000   22.000000  396.900000   \n",
       "\n",
       "            LSTAT       PRICE  \n",
       "count  506.000000  506.000000  \n",
       "mean    12.653063   22.532806  \n",
       "std      7.141062    9.197104  \n",
       "min      1.730000    5.000000  \n",
       "25%      6.950000   17.025000  \n",
       "50%     11.360000   21.200000  \n",
       "75%     16.955000   25.000000  \n",
       "max     37.970000   50.000000  "
      ]
     },
     "execution_count": 11,
     "metadata": {},
     "output_type": "execute_result"
    }
   ],
   "source": [
    "## List Descriptive Statistics of the dataframe ##\n",
    "house.describe()"
   ]
  },
  {
   "cell_type": "code",
   "execution_count": 12,
   "metadata": {},
   "outputs": [],
   "source": [
    "## Creating a Pair Plot for all the house data and using hue coloring for the variable CHAS to identigy graphs that could potential show relationship with location along the river ## ##\n",
    "##sns.pairplot(house, hue = 'CHAS', height=2.5)\n",
    "##plt.tight_layout()"
   ]
  },
  {
   "cell_type": "markdown",
   "metadata": {},
   "source": [
    "The pair plot above is a busy graph and in one aspect can be overwhelming with information. But for the purposes of this analysis and with a critical eye to the inferal section of this project we can focus in on the \"CHAS\" title along the x-axis. Using the \"hue\" in conduction with CHAS it has allowed the differentiation of the Charles River dummy variable i.e. (Orange = 1 if tract bounds river; Blue = 0 otherwise). From this we can plot in greater detail data sets that may have a dependency on each other."
   ]
  },
  {
   "cell_type": "code",
   "execution_count": 13,
   "metadata": {},
   "outputs": [],
   "source": [
    "## Creating a new DataFrame for the price of houses ##\n",
    "river_house_price = pd.DataFrame(house, columns = ['CHAS', 'PRICE'])  "
   ]
  },
  {
   "cell_type": "code",
   "execution_count": 14,
   "metadata": {},
   "outputs": [
    {
     "data": {
      "text/html": [
       "<div>\n",
       "<style scoped>\n",
       "    .dataframe tbody tr th:only-of-type {\n",
       "        vertical-align: middle;\n",
       "    }\n",
       "\n",
       "    .dataframe tbody tr th {\n",
       "        vertical-align: top;\n",
       "    }\n",
       "\n",
       "    .dataframe thead th {\n",
       "        text-align: right;\n",
       "    }\n",
       "</style>\n",
       "<table border=\"1\" class=\"dataframe\">\n",
       "  <thead>\n",
       "    <tr style=\"text-align: right;\">\n",
       "      <th></th>\n",
       "      <th>CHAS</th>\n",
       "      <th>Price of House Not Along River</th>\n",
       "    </tr>\n",
       "  </thead>\n",
       "  <tbody>\n",
       "    <tr>\n",
       "      <th>count</th>\n",
       "      <td>471.0</td>\n",
       "      <td>471.000000</td>\n",
       "    </tr>\n",
       "    <tr>\n",
       "      <th>mean</th>\n",
       "      <td>0.0</td>\n",
       "      <td>22.093843</td>\n",
       "    </tr>\n",
       "    <tr>\n",
       "      <th>std</th>\n",
       "      <td>0.0</td>\n",
       "      <td>8.831362</td>\n",
       "    </tr>\n",
       "    <tr>\n",
       "      <th>min</th>\n",
       "      <td>0.0</td>\n",
       "      <td>5.000000</td>\n",
       "    </tr>\n",
       "    <tr>\n",
       "      <th>25%</th>\n",
       "      <td>0.0</td>\n",
       "      <td>16.600000</td>\n",
       "    </tr>\n",
       "    <tr>\n",
       "      <th>50%</th>\n",
       "      <td>0.0</td>\n",
       "      <td>20.900000</td>\n",
       "    </tr>\n",
       "    <tr>\n",
       "      <th>75%</th>\n",
       "      <td>0.0</td>\n",
       "      <td>24.800000</td>\n",
       "    </tr>\n",
       "    <tr>\n",
       "      <th>max</th>\n",
       "      <td>0.0</td>\n",
       "      <td>50.000000</td>\n",
       "    </tr>\n",
       "  </tbody>\n",
       "</table>\n",
       "</div>"
      ],
      "text/plain": [
       "        CHAS  Price of House Not Along River\n",
       "count  471.0                      471.000000\n",
       "mean     0.0                       22.093843\n",
       "std      0.0                        8.831362\n",
       "min      0.0                        5.000000\n",
       "25%      0.0                       16.600000\n",
       "50%      0.0                       20.900000\n",
       "75%      0.0                       24.800000\n",
       "max      0.0                       50.000000"
      ]
     },
     "execution_count": 14,
     "metadata": {},
     "output_type": "execute_result"
    }
   ],
   "source": [
    "\n",
    "## Creating a dataframe of house and prices that are not along the river ##\n",
    "house_away_from_river=river_house_price[river_house_price.CHAS == 0]\n",
    "\n",
    "## Renaming Columns Names for Clarity ##\n",
    "house_away_from_river.columns = ['CHAS', 'Price of House Not Along River']\n",
    "\n",
    "## Listing Summary Statistics for Price of House ot along the river ##\n",
    "house_away_from_river.describe()"
   ]
  },
  {
   "cell_type": "code",
   "execution_count": 15,
   "metadata": {},
   "outputs": [
    {
     "data": {
      "text/html": [
       "<div>\n",
       "<style scoped>\n",
       "    .dataframe tbody tr th:only-of-type {\n",
       "        vertical-align: middle;\n",
       "    }\n",
       "\n",
       "    .dataframe tbody tr th {\n",
       "        vertical-align: top;\n",
       "    }\n",
       "\n",
       "    .dataframe thead th {\n",
       "        text-align: right;\n",
       "    }\n",
       "</style>\n",
       "<table border=\"1\" class=\"dataframe\">\n",
       "  <thead>\n",
       "    <tr style=\"text-align: right;\">\n",
       "      <th></th>\n",
       "      <th>CHAS</th>\n",
       "      <th>Price of House Along River</th>\n",
       "    </tr>\n",
       "  </thead>\n",
       "  <tbody>\n",
       "    <tr>\n",
       "      <th>count</th>\n",
       "      <td>35.0</td>\n",
       "      <td>35.000000</td>\n",
       "    </tr>\n",
       "    <tr>\n",
       "      <th>mean</th>\n",
       "      <td>1.0</td>\n",
       "      <td>28.440000</td>\n",
       "    </tr>\n",
       "    <tr>\n",
       "      <th>std</th>\n",
       "      <td>0.0</td>\n",
       "      <td>11.816643</td>\n",
       "    </tr>\n",
       "    <tr>\n",
       "      <th>min</th>\n",
       "      <td>1.0</td>\n",
       "      <td>13.400000</td>\n",
       "    </tr>\n",
       "    <tr>\n",
       "      <th>25%</th>\n",
       "      <td>1.0</td>\n",
       "      <td>21.100000</td>\n",
       "    </tr>\n",
       "    <tr>\n",
       "      <th>50%</th>\n",
       "      <td>1.0</td>\n",
       "      <td>23.300000</td>\n",
       "    </tr>\n",
       "    <tr>\n",
       "      <th>75%</th>\n",
       "      <td>1.0</td>\n",
       "      <td>33.150000</td>\n",
       "    </tr>\n",
       "    <tr>\n",
       "      <th>max</th>\n",
       "      <td>1.0</td>\n",
       "      <td>50.000000</td>\n",
       "    </tr>\n",
       "  </tbody>\n",
       "</table>\n",
       "</div>"
      ],
      "text/plain": [
       "       CHAS  Price of House Along River\n",
       "count  35.0                   35.000000\n",
       "mean    1.0                   28.440000\n",
       "std     0.0                   11.816643\n",
       "min     1.0                   13.400000\n",
       "25%     1.0                   21.100000\n",
       "50%     1.0                   23.300000\n",
       "75%     1.0                   33.150000\n",
       "max     1.0                   50.000000"
      ]
     },
     "execution_count": 15,
     "metadata": {},
     "output_type": "execute_result"
    }
   ],
   "source": [
    "## Creating a dataframe of houses and prices that are along the river ##\n",
    "house_along_river=river_house_price[river_house_price.CHAS == 1]\n",
    "\n",
    "## Renaming Columns Names for Clarity ##\n",
    "house_along_river.columns = ['CHAS', 'Price of House Along River']\n",
    "\n",
    "## Listing Summary Statistics for Price of Houses along the river ##\n",
    "house_along_river.describe()"
   ]
  },
  {
   "cell_type": "code",
   "execution_count": 16,
   "metadata": {},
   "outputs": [
    {
     "data": {
      "text/html": [
       "<div>\n",
       "<style scoped>\n",
       "    .dataframe tbody tr th:only-of-type {\n",
       "        vertical-align: middle;\n",
       "    }\n",
       "\n",
       "    .dataframe tbody tr th {\n",
       "        vertical-align: top;\n",
       "    }\n",
       "\n",
       "    .dataframe thead th {\n",
       "        text-align: right;\n",
       "    }\n",
       "</style>\n",
       "<table border=\"1\" class=\"dataframe\">\n",
       "  <thead>\n",
       "    <tr style=\"text-align: right;\">\n",
       "      <th></th>\n",
       "      <th>CHAS</th>\n",
       "      <th>Price of House Not Along River</th>\n",
       "      <th>CHAS</th>\n",
       "      <th>Price of House Along River</th>\n",
       "      <th>PRICE</th>\n",
       "    </tr>\n",
       "  </thead>\n",
       "  <tbody>\n",
       "    <tr>\n",
       "      <th>count</th>\n",
       "      <td>471.0</td>\n",
       "      <td>471.000000</td>\n",
       "      <td>35.0</td>\n",
       "      <td>35.000000</td>\n",
       "      <td>506.000000</td>\n",
       "    </tr>\n",
       "    <tr>\n",
       "      <th>mean</th>\n",
       "      <td>0.0</td>\n",
       "      <td>22.093843</td>\n",
       "      <td>1.0</td>\n",
       "      <td>28.440000</td>\n",
       "      <td>22.532806</td>\n",
       "    </tr>\n",
       "    <tr>\n",
       "      <th>std</th>\n",
       "      <td>0.0</td>\n",
       "      <td>8.831362</td>\n",
       "      <td>0.0</td>\n",
       "      <td>11.816643</td>\n",
       "      <td>9.197104</td>\n",
       "    </tr>\n",
       "    <tr>\n",
       "      <th>min</th>\n",
       "      <td>0.0</td>\n",
       "      <td>5.000000</td>\n",
       "      <td>1.0</td>\n",
       "      <td>13.400000</td>\n",
       "      <td>5.000000</td>\n",
       "    </tr>\n",
       "    <tr>\n",
       "      <th>25%</th>\n",
       "      <td>0.0</td>\n",
       "      <td>16.600000</td>\n",
       "      <td>1.0</td>\n",
       "      <td>21.100000</td>\n",
       "      <td>17.025000</td>\n",
       "    </tr>\n",
       "    <tr>\n",
       "      <th>50%</th>\n",
       "      <td>0.0</td>\n",
       "      <td>20.900000</td>\n",
       "      <td>1.0</td>\n",
       "      <td>23.300000</td>\n",
       "      <td>21.200000</td>\n",
       "    </tr>\n",
       "    <tr>\n",
       "      <th>75%</th>\n",
       "      <td>0.0</td>\n",
       "      <td>24.800000</td>\n",
       "      <td>1.0</td>\n",
       "      <td>33.150000</td>\n",
       "      <td>25.000000</td>\n",
       "    </tr>\n",
       "    <tr>\n",
       "      <th>max</th>\n",
       "      <td>0.0</td>\n",
       "      <td>50.000000</td>\n",
       "      <td>1.0</td>\n",
       "      <td>50.000000</td>\n",
       "      <td>50.000000</td>\n",
       "    </tr>\n",
       "  </tbody>\n",
       "</table>\n",
       "</div>"
      ],
      "text/plain": [
       "        CHAS  Price of House Not Along River  CHAS  \\\n",
       "count  471.0                      471.000000  35.0   \n",
       "mean     0.0                       22.093843   1.0   \n",
       "std      0.0                        8.831362   0.0   \n",
       "min      0.0                        5.000000   1.0   \n",
       "25%      0.0                       16.600000   1.0   \n",
       "50%      0.0                       20.900000   1.0   \n",
       "75%      0.0                       24.800000   1.0   \n",
       "max      0.0                       50.000000   1.0   \n",
       "\n",
       "       Price of House Along River       PRICE  \n",
       "count                   35.000000  506.000000  \n",
       "mean                    28.440000   22.532806  \n",
       "std                     11.816643    9.197104  \n",
       "min                     13.400000    5.000000  \n",
       "25%                     21.100000   17.025000  \n",
       "50%                     23.300000   21.200000  \n",
       "75%                     33.150000   25.000000  \n",
       "max                     50.000000   50.000000  "
      ]
     },
     "execution_count": 16,
     "metadata": {},
     "output_type": "execute_result"
    }
   ],
   "source": [
    "## Creating a new table of Price of Housing ##\n",
    "Price_of_Housing = pd.concat([house_away_from_river,house_along_river,Original_House_Price], axis=1)\n",
    "Price_of_Housing.describe()"
   ]
  },
  {
   "cell_type": "code",
   "execution_count": 17,
   "metadata": {},
   "outputs": [
    {
     "data": {
      "image/png": "[encoded data removed]",
      "text/plain": [
       "<Figure size 432x288 with 1 Axes>"
      ]
     },
     "metadata": {
      "needs_background": "light"
     },
     "output_type": "display_data"
    }
   ],
   "source": [
    "## Creating a BoxPlot of the House prices to visual observe the data ##\n",
    "\n",
    "boxplot = Price_of_Housing.boxplot(column=['Price of House Not Along River', 'Price of House Along River', 'PRICE'],grid=False, rot=90, fontsize=15)\n"
   ]
  },
  {
   "cell_type": "code",
   "execution_count": 18,
   "metadata": {},
   "outputs": [],
   "source": [
    "## Setting x as the value of all the House Prices from the Original Data ##\n",
    "x = Price_of_Housing.loc[:, 'PRICE']"
   ]
  },
  {
   "cell_type": "code",
   "execution_count": 19,
   "metadata": {},
   "outputs": [],
   "source": [
    "### Getting ride of the NAN from the House Prices not along the river i.e. CHAS O, so the data can be graphed ##\n",
    "y=Price_of_Housing['Price of House Not Along River'].dropna().unique()"
   ]
  },
  {
   "cell_type": "code",
   "execution_count": 20,
   "metadata": {},
   "outputs": [],
   "source": [
    "## Getting ride of the NAN from the House Prices along the river i.e. CHAS 1, so the data can be graphed ##\n",
    "z=Price_of_Housing['Price of House Along River'].dropna().unique()\n"
   ]
  },
  {
   "cell_type": "code",
   "execution_count": 21,
   "metadata": {},
   "outputs": [
    {
     "data": {
      "text/plain": [
       "<function matplotlib.pyplot.show(*args, **kw)>"
      ]
     },
     "execution_count": 21,
     "metadata": {},
     "output_type": "execute_result"
    },
    {
     "data": {
      "image/png": "[encoded data removed]",
      "text/plain": [
       "<Figure size 432x288 with 1 Axes>"
      ]
     },
     "metadata": {
      "needs_background": "light"
     },
     "output_type": "display_data"
    }
   ],
   "source": [
    "##sns.distplot(x)\n",
    "## sns.distplot(y)\n",
    "##sns.distplot(z)\n",
    "\n",
    "##sm.qqplot(x, dist=\"norm\")\n",
    "\n",
    "qqplot(x, line='s')\n",
    "plt.show\n",
    "\n",
    "\n"
   ]
  },
  {
   "cell_type": "code",
   "execution_count": 22,
   "metadata": {},
   "outputs": [
    {
     "data": {
      "text/plain": [
       "<function matplotlib.pyplot.show(*args, **kw)>"
      ]
     },
     "execution_count": 22,
     "metadata": {},
     "output_type": "execute_result"
    },
    {
     "data": {
      "image/png": "[encoded data removed]",
      "text/plain": [
       "<Figure size 432x288 with 1 Axes>"
      ]
     },
     "metadata": {
      "needs_background": "light"
     },
     "output_type": "display_data"
    }
   ],
   "source": [
    "## creating Quantile Plots ## \n",
    "stats.probplot(x, dist=\"norm\", plot=plt)\n",
    "plt.show"
   ]
  },
  {
   "cell_type": "code",
   "execution_count": 23,
   "metadata": {},
   "outputs": [
    {
     "data": {
      "image/png": "[encoded data removed]",
      "text/plain": [
       "<Figure size 432x288 with 3 Axes>"
      ]
     },
     "metadata": {
      "needs_background": "light"
     },
     "output_type": "display_data"
    }
   ],
   "source": [
    "## Creating Distribution Sub Plots of the 3 Sets of Data ##\n",
    "\n",
    "plt.subplot(1,3,1)\n",
    "sns.distplot(x)\n",
    "\n",
    "plt.subplot(1,3,2)\n",
    "sns.distplot(y)\n",
    "\n",
    "plt.subplot(1,3,3)\n",
    "sns.distplot(z)\n",
    "\n",
    "plt.show()\n"
   ]
  },
  {
   "cell_type": "code",
   "execution_count": 24,
   "metadata": {},
   "outputs": [
    {
     "name": "stdout",
     "output_type": "stream",
     "text": [
      "AndersonResult(statistic=11.822483502722775, critical_values=array([0.572, 0.651, 0.781, 0.911, 1.084]), significance_level=array([15. , 10. ,  5. ,  2.5,  1. ]))\n"
     ]
    }
   ],
   "source": [
    "## Checking for Normality Using the Anderson Darling Test for the Original House Prices i.e. Along and Not Along the River ##\n",
    "anderson_results_x = stats.anderson(x, dist='norm')\n",
    "print(anderson_results_x)"
   ]
  },
  {
   "cell_type": "code",
   "execution_count": 25,
   "metadata": {},
   "outputs": [
    {
     "name": "stdout",
     "output_type": "stream",
     "text": [
      "AndersonResult(statistic=1.9618480590904142, critical_values=array([0.566, 0.645, 0.773, 0.902, 1.073]), significance_level=array([15. , 10. ,  5. ,  2.5,  1. ]))\n"
     ]
    }
   ],
   "source": [
    "## Checking for Normality Using the Anderson Darling Test for House Prices not along the river i.e. CHAS O, so the data can be graphed ## \n",
    "anderson_results_y = stats.anderson(y, dist='norm')\n",
    "print(anderson_results_y)"
   ]
  },
  {
   "cell_type": "code",
   "execution_count": 26,
   "metadata": {},
   "outputs": [
    {
     "name": "stdout",
     "output_type": "stream",
     "text": [
      "AndersonResult(statistic=0.9219888160312699, critical_values=array([0.518, 0.59 , 0.708, 0.826, 0.983]), significance_level=array([15. , 10. ,  5. ,  2.5,  1. ]))\n"
     ]
    }
   ],
   "source": [
    "## Checking for Normality Using the Anderson Darling Test for House Prices along the river i.e. CHAS 1, so the data can be graphed ##\n",
    "anderson_results_z = stats.anderson(z, dist='norm')\n",
    "print(anderson_results_z)"
   ]
  },
  {
   "cell_type": "code",
   "execution_count": 27,
   "metadata": {},
   "outputs": [
    {
     "data": {
      "text/plain": [
       "LeveneResult(statistic=2.2364910643871942, pvalue=0.13606309495719288)"
      ]
     },
     "execution_count": 27,
     "metadata": {},
     "output_type": "execute_result"
    }
   ],
   "source": [
    "## Performing Levenes Test to determine equal variance ##\n",
    "stats.levene(y,z)"
   ]
  },
  {
   "cell_type": "code",
   "execution_count": 28,
   "metadata": {},
   "outputs": [
    {
     "data": {
      "text/plain": [
       "BartlettResult(statistic=0.9118499303668617, pvalue=0.3396240537825935)"
      ]
     },
     "execution_count": 28,
     "metadata": {},
     "output_type": "execute_result"
    }
   ],
   "source": [
    "## Performing Bartletts Test to determine equal variance ##\n",
    "stats.bartlett(y,z)"
   ]
  },
  {
   "cell_type": "code",
   "execution_count": 29,
   "metadata": {},
   "outputs": [],
   "source": [
    "## Setting my inputs ans outputs for the neural network##\n",
    "inputs = house[['B','DIS', 'RM', 'CRIM','CHAS']]\n",
    "outputs = house[['PRICE']]"
   ]
  },
  {
   "cell_type": "code",
   "execution_count": 30,
   "metadata": {},
   "outputs": [
    {
     "name": "stdout",
     "output_type": "stream",
     "text": [
      "WARNING:tensorflow:From C:\\Users\\Shane\\Anaconda3\\lib\\site-packages\\tensorflow\\python\\ops\\resource_variable_ops.py:435: colocate_with (from tensorflow.python.framework.ops) is deprecated and will be removed in a future version.\n",
      "Instructions for updating:\n",
      "Colocations handled automatically by placer.\n"
     ]
    }
   ],
   "source": [
    "## Creating a Neural Network ##\n",
    "\n",
    "m=ks.models.Sequential()\n",
    "m.add(ks.layers.Dense(10,input_dim=5, activation='linear'))\n",
    "m.add(ks.layers.Dense(10, activation='linear'))\n",
    "m.add(ks.layers.Dense(1, activation='linear'))"
   ]
  },
  {
   "cell_type": "code",
   "execution_count": 31,
   "metadata": {},
   "outputs": [],
   "source": [
    "m.compile(loss='mean_squared_error',optimizer='adam')"
   ]
  },
  {
   "cell_type": "code",
   "execution_count": 32,
   "metadata": {},
   "outputs": [
    {
     "name": "stdout",
     "output_type": "stream",
     "text": [
      "WARNING:tensorflow:From C:\\Users\\Shane\\Anaconda3\\lib\\site-packages\\tensorflow\\python\\ops\\math_ops.py:3066: to_int32 (from tensorflow.python.ops.math_ops) is deprecated and will be removed in a future version.\n",
      "Instructions for updating:\n",
      "Use tf.cast instead.\n",
      "Epoch 1/10\n",
      "506/506 [==============================] - 1s 2ms/step - loss: 51275.9707\n",
      "Epoch 2/10\n",
      "506/506 [==============================] - 0s 176us/step - loss: 1116.8485\n",
      "Epoch 3/10\n",
      "506/506 [==============================] - 0s 174us/step - loss: 76.1171\n",
      "Epoch 4/10\n",
      "506/506 [==============================] - 0s 146us/step - loss: 69.2021\n",
      "Epoch 5/10\n",
      "506/506 [==============================] - 0s 136us/step - loss: 68.7478\n",
      "Epoch 6/10\n",
      "506/506 [==============================] - 0s 140us/step - loss: 67.7256\n",
      "Epoch 7/10\n",
      "506/506 [==============================] - 0s 146us/step - loss: 67.1885\n",
      "Epoch 8/10\n",
      "506/506 [==============================] - 0s 144us/step - loss: 66.6681\n",
      "Epoch 9/10\n",
      "506/506 [==============================] - 0s 150us/step - loss: 66.0852\n",
      "Epoch 10/10\n",
      "506/506 [==============================] - 0s 140us/step - loss: 65.8597\n"
     ]
    },
    {
     "data": {
      "text/plain": [
       "<keras.callbacks.callbacks.History at 0x1c36d519198>"
      ]
     },
     "execution_count": 32,
     "metadata": {},
     "output_type": "execute_result"
    }
   ],
   "source": [
    "## Training the Neural Network ##\n",
    "\n",
    "m.fit(inputs,outputs,epochs=10,batch_size=11)"
   ]
  },
  {
   "cell_type": "code",
   "execution_count": 33,
   "metadata": {},
   "outputs": [
    {
     "data": {
      "text/plain": [
       "array([[23.747316 ],\n",
       "       [23.396187 ],\n",
       "       [24.202126 ],\n",
       "       [23.842676 ],\n",
       "       [24.119244 ],\n",
       "       [23.103725 ],\n",
       "       [22.719103 ],\n",
       "       [22.901258 ],\n",
       "       [21.783665 ],\n",
       "       [22.170736 ],\n",
       "       [22.91337  ],\n",
       "       [22.647478 ],\n",
       "       [22.38078  ],\n",
       "       [22.81493  ],\n",
       "       [22.376253 ],\n",
       "       [22.65582  ],\n",
       "       [22.415548 ],\n",
       "       [22.537205 ],\n",
       "       [18.074444 ],\n",
       "       [22.45497  ],\n",
       "       [21.66111  ],\n",
       "       [22.774288 ],\n",
       "       [23.15861  ],\n",
       "       [22.639984 ],\n",
       "       [22.73013  ],\n",
       "       [18.707977 ],\n",
       "       [21.853205 ],\n",
       "       [19.386581 ],\n",
       "       [23.18917  ],\n",
       "       [23.137436 ],\n",
       "       [21.122276 ],\n",
       "       [22.230936 ],\n",
       "       [16.405544 ],\n",
       "       [21.129498 ],\n",
       "       [17.241407 ],\n",
       "       [23.060978 ],\n",
       "       [22.174665 ],\n",
       "       [22.853674 ],\n",
       "       [22.87387  ],\n",
       "       [23.489365 ],\n",
       "       [24.031624 ],\n",
       "       [23.245083 ],\n",
       "       [22.402977 ],\n",
       "       [22.893953 ],\n",
       "       [22.515491 ],\n",
       "       [22.430168 ],\n",
       "       [22.56096  ],\n",
       "       [22.598928 ],\n",
       "       [21.931795 ],\n",
       "       [22.151882 ],\n",
       "       [22.43362  ],\n",
       "       [22.565357 ],\n",
       "       [23.181938 ],\n",
       "       [22.532867 ],\n",
       "       [22.3061   ],\n",
       "       [23.74665  ],\n",
       "       [22.60175  ],\n",
       "       [23.14446  ],\n",
       "       [22.290728 ],\n",
       "       [22.419586 ],\n",
       "       [22.059189 ],\n",
       "       [21.74105  ],\n",
       "       [23.036806 ],\n",
       "       [23.237457 ],\n",
       "       [23.363323 ],\n",
       "       [22.939083 ],\n",
       "       [22.30201  ],\n",
       "       [22.409252 ],\n",
       "       [22.073278 ],\n",
       "       [22.441973 ],\n",
       "       [22.810486 ],\n",
       "       [21.961176 ],\n",
       "       [22.648851 ],\n",
       "       [22.32789  ],\n",
       "       [23.254627 ],\n",
       "       [22.763317 ],\n",
       "       [22.455236 ],\n",
       "       [22.799404 ],\n",
       "       [22.73185  ],\n",
       "       [22.750027 ],\n",
       "       [23.706095 ],\n",
       "       [23.519007 ],\n",
       "       [23.168427 ],\n",
       "       [22.749996 ],\n",
       "       [23.387726 ],\n",
       "       [23.5709   ],\n",
       "       [22.940664 ],\n",
       "       [23.160803 ],\n",
       "       [24.40982  ],\n",
       "       [24.469181 ],\n",
       "       [23.535126 ],\n",
       "       [23.57453  ],\n",
       "       [23.577522 ],\n",
       "       [23.337969 ],\n",
       "       [23.416939 ],\n",
       "       [22.370352 ],\n",
       "       [23.12516  ],\n",
       "       [25.737774 ],\n",
       "       [25.291206 ],\n",
       "       [24.913893 ],\n",
       "       [24.080164 ],\n",
       "       [24.168774 ],\n",
       "       [10.86329  ],\n",
       "       [23.329994 ],\n",
       "       [23.353096 ],\n",
       "       [23.062843 ],\n",
       "       [23.087595 ],\n",
       "       [23.157904 ],\n",
       "       [23.840963 ],\n",
       "       [23.34572  ],\n",
       "       [23.358624 ],\n",
       "       [24.117918 ],\n",
       "       [23.1337   ],\n",
       "       [23.398136 ],\n",
       "       [23.335882 ],\n",
       "       [21.151243 ],\n",
       "       [23.33427  ],\n",
       "       [23.181963 ],\n",
       "       [20.831411 ],\n",
       "       [22.694088 ],\n",
       "       [22.8695   ],\n",
       "       [22.595467 ],\n",
       "       [22.576124 ],\n",
       "       [22.157806 ],\n",
       "       [22.53741  ],\n",
       "       [22.894836 ],\n",
       "       [21.435673 ],\n",
       "       [22.836212 ],\n",
       "       [23.952188 ],\n",
       "       [22.890125 ],\n",
       "       [23.857946 ],\n",
       "       [23.695276 ],\n",
       "       [23.332611 ],\n",
       "       [22.740097 ],\n",
       "       [17.665709 ],\n",
       "       [23.678268 ],\n",
       "       [22.56828  ],\n",
       "       [23.861822 ],\n",
       "       [23.062695 ],\n",
       "       [23.61241  ],\n",
       "       [23.315233 ],\n",
       "       [22.16658  ],\n",
       "       [22.966946 ],\n",
       "       [22.617544 ],\n",
       "       [21.97936  ],\n",
       "       [14.677678 ],\n",
       "       [13.892173 ],\n",
       "       [21.803188 ],\n",
       "       [20.748318 ],\n",
       "       [21.045935 ],\n",
       "       [22.576202 ],\n",
       "       [20.445747 ],\n",
       "       [20.40838  ],\n",
       "       [17.64272  ],\n",
       "       [20.902607 ],\n",
       "       [11.609036 ],\n",
       "       [10.197992 ],\n",
       "       [23.220139 ],\n",
       "       [21.748108 ],\n",
       "       [22.716682 ],\n",
       "       [21.76219  ],\n",
       "       [24.317945 ],\n",
       "       [25.661266 ],\n",
       "       [26.334682 ],\n",
       "       [22.948446 ],\n",
       "       [17.121656 ],\n",
       "       [24.631527 ],\n",
       "       [16.372047 ],\n",
       "       [19.713165 ],\n",
       "       [21.085615 ],\n",
       "       [18.95773  ],\n",
       "       [21.12503  ],\n",
       "       [22.735598 ],\n",
       "       [23.741886 ],\n",
       "       [22.937601 ],\n",
       "       [23.642086 ],\n",
       "       [22.991224 ],\n",
       "       [23.501131 ],\n",
       "       [24.09014  ],\n",
       "       [24.48046  ],\n",
       "       [25.436169 ],\n",
       "       [23.462706 ],\n",
       "       [24.613043 ],\n",
       "       [23.947405 ],\n",
       "       [22.476166 ],\n",
       "       [22.966595 ],\n",
       "       [25.323185 ],\n",
       "       [23.939167 ],\n",
       "       [23.07679  ],\n",
       "       [24.431189 ],\n",
       "       [23.035881 ],\n",
       "       [23.244553 ],\n",
       "       [23.830107 ],\n",
       "       [23.5149   ],\n",
       "       [22.607685 ],\n",
       "       [25.010984 ],\n",
       "       [24.077291 ],\n",
       "       [22.164211 ],\n",
       "       [23.87503  ],\n",
       "       [23.621904 ],\n",
       "       [23.32663  ],\n",
       "       [22.713747 ],\n",
       "       [24.610674 ],\n",
       "       [25.018547 ],\n",
       "       [25.160118 ],\n",
       "       [22.900728 ],\n",
       "       [23.2939   ],\n",
       "       [22.390366 ],\n",
       "       [22.82867  ],\n",
       "       [22.583319 ],\n",
       "       [23.231163 ],\n",
       "       [22.633776 ],\n",
       "       [22.983822 ],\n",
       "       [23.074389 ],\n",
       "       [20.452442 ],\n",
       "       [23.136707 ],\n",
       "       [23.26399  ],\n",
       "       [23.784342 ],\n",
       "       [23.542109 ],\n",
       "       [23.867184 ],\n",
       "       [24.59467  ],\n",
       "       [23.703255 ],\n",
       "       [24.366016 ],\n",
       "       [23.916332 ],\n",
       "       [25.614975 ],\n",
       "       [26.064747 ],\n",
       "       [25.360893 ],\n",
       "       [23.644173 ],\n",
       "       [24.498383 ],\n",
       "       [23.168015 ],\n",
       "       [22.309448 ],\n",
       "       [24.036812 ],\n",
       "       [25.558987 ],\n",
       "       [25.214745 ],\n",
       "       [22.919456 ],\n",
       "       [22.392721 ],\n",
       "       [23.82552  ],\n",
       "       [24.43284  ],\n",
       "       [22.561136 ],\n",
       "       [22.891726 ],\n",
       "       [23.528654 ],\n",
       "       [22.647306 ],\n",
       "       [21.991352 ],\n",
       "       [22.111996 ],\n",
       "       [20.845104 ],\n",
       "       [21.519346 ],\n",
       "       [22.17233  ],\n",
       "       [21.773281 ],\n",
       "       [22.02085  ],\n",
       "       [23.133081 ],\n",
       "       [23.019789 ],\n",
       "       [22.194168 ],\n",
       "       [22.947222 ],\n",
       "       [25.00852  ],\n",
       "       [22.087912 ],\n",
       "       [21.885519 ],\n",
       "       [24.044235 ],\n",
       "       [26.532085 ],\n",
       "       [24.524128 ],\n",
       "       [24.22433  ],\n",
       "       [24.703445 ],\n",
       "       [24.924768 ],\n",
       "       [25.95065  ],\n",
       "       [24.876722 ],\n",
       "       [24.544693 ],\n",
       "       [22.619442 ],\n",
       "       [24.103035 ],\n",
       "       [25.704693 ],\n",
       "       [24.807981 ],\n",
       "       [23.10199  ],\n",
       "       [22.436451 ],\n",
       "       [23.255621 ],\n",
       "       [23.648897 ],\n",
       "       [25.234997 ],\n",
       "       [24.355988 ],\n",
       "       [24.064634 ],\n",
       "       [24.569595 ],\n",
       "       [24.166384 ],\n",
       "       [23.61709  ],\n",
       "       [24.035295 ],\n",
       "       [24.835238 ],\n",
       "       [23.854128 ],\n",
       "       [24.49316  ],\n",
       "       [25.45811  ],\n",
       "       [23.741007 ],\n",
       "       [22.937233 ],\n",
       "       [20.23782  ],\n",
       "       [22.711552 ],\n",
       "       [22.84535  ],\n",
       "       [22.165752 ],\n",
       "       [23.926188 ],\n",
       "       [24.2873   ],\n",
       "       [23.63381  ],\n",
       "       [22.926586 ],\n",
       "       [22.777254 ],\n",
       "       [23.540699 ],\n",
       "       [23.220993 ],\n",
       "       [22.352629 ],\n",
       "       [21.658245 ],\n",
       "       [22.671677 ],\n",
       "       [23.21979  ],\n",
       "       [23.47139  ],\n",
       "       [22.868042 ],\n",
       "       [23.75385  ],\n",
       "       [24.466171 ],\n",
       "       [23.784115 ],\n",
       "       [24.988678 ],\n",
       "       [24.252476 ],\n",
       "       [23.935863 ],\n",
       "       [23.11571  ],\n",
       "       [20.029816 ],\n",
       "       [23.391645 ],\n",
       "       [23.234516 ],\n",
       "       [23.35072  ],\n",
       "       [23.757614 ],\n",
       "       [22.64064  ],\n",
       "       [22.666147 ],\n",
       "       [22.742172 ],\n",
       "       [23.515259 ],\n",
       "       [23.128448 ],\n",
       "       [23.471083 ],\n",
       "       [23.407112 ],\n",
       "       [22.942741 ],\n",
       "       [22.29634  ],\n",
       "       [23.41655  ],\n",
       "       [23.193918 ],\n",
       "       [23.165201 ],\n",
       "       [22.878458 ],\n",
       "       [22.078526 ],\n",
       "       [22.380955 ],\n",
       "       [21.76355  ],\n",
       "       [22.080078 ],\n",
       "       [21.235292 ],\n",
       "       [22.713863 ],\n",
       "       [22.694677 ],\n",
       "       [22.729416 ],\n",
       "       [22.650528 ],\n",
       "       [22.533033 ],\n",
       "       [22.935074 ],\n",
       "       [22.87043  ],\n",
       "       [22.848576 ],\n",
       "       [23.982891 ],\n",
       "       [23.042395 ],\n",
       "       [23.608976 ],\n",
       "       [23.350994 ],\n",
       "       [21.896456 ],\n",
       "       [20.916134 ],\n",
       "       [22.70879  ],\n",
       "       [22.834433 ],\n",
       "       [23.096088 ],\n",
       "       [22.805128 ],\n",
       "       [21.544186 ],\n",
       "       [21.517445 ],\n",
       "       [22.026463 ],\n",
       "       [20.884216 ],\n",
       "       [20.959167 ],\n",
       "       [22.810629 ],\n",
       "       [23.767015 ],\n",
       "       [23.484198 ],\n",
       "       [22.986708 ],\n",
       "       [22.693087 ],\n",
       "       [21.635418 ],\n",
       "       [21.744421 ],\n",
       "       [21.590294 ],\n",
       "       [25.45488  ],\n",
       "       [18.47615  ],\n",
       "       [18.738605 ],\n",
       "       [ 9.599284 ],\n",
       "       [21.115849 ],\n",
       "       [23.61118  ],\n",
       "       [24.678394 ],\n",
       "       [22.136532 ],\n",
       "       [21.41415  ],\n",
       "       [21.60131  ],\n",
       "       [20.270014 ],\n",
       "       [24.201754 ],\n",
       "       [22.229832 ],\n",
       "       [24.02186  ],\n",
       "       [22.808586 ],\n",
       "       [22.77109  ],\n",
       "       [20.313723 ],\n",
       "       [23.37873  ],\n",
       "       [22.421885 ],\n",
       "       [22.469109 ],\n",
       "       [16.034935 ],\n",
       "       [21.743908 ],\n",
       "       [20.570316 ],\n",
       "       [21.090633 ],\n",
       "       [20.386505 ],\n",
       "       [22.262203 ],\n",
       "       [22.597109 ],\n",
       "       [22.429832 ],\n",
       "       [21.637175 ],\n",
       "       [23.242943 ],\n",
       "       [22.623913 ],\n",
       "       [23.40819  ],\n",
       "       [23.668755 ],\n",
       "       [22.604202 ],\n",
       "       [20.88924  ],\n",
       "       [20.475983 ],\n",
       "       [22.20617  ],\n",
       "       [23.194439 ],\n",
       "       [22.667355 ],\n",
       "       [21.390621 ],\n",
       "       [18.14176  ],\n",
       "       [19.256065 ],\n",
       "       [19.097506 ],\n",
       "       [19.864365 ],\n",
       "       [19.380531 ],\n",
       "       [15.2415285],\n",
       "       [ 5.055428 ],\n",
       "       [ 9.293734 ],\n",
       "       [ 6.2377753],\n",
       "       [13.618586 ],\n",
       "       [ 7.101238 ],\n",
       "       [ 8.448885 ],\n",
       "       [ 9.026204 ],\n",
       "       [10.623525 ],\n",
       "       [ 4.678848 ],\n",
       "       [10.09889  ],\n",
       "       [20.294186 ],\n",
       "       [20.028692 ],\n",
       "       [18.188526 ],\n",
       "       [ 7.5646796],\n",
       "       [ 6.834876 ],\n",
       "       [ 7.090593 ],\n",
       "       [ 7.8505692],\n",
       "       [ 6.847693 ],\n",
       "       [11.405296 ],\n",
       "       [10.113977 ],\n",
       "       [10.999686 ],\n",
       "       [11.445657 ],\n",
       "       [11.74605  ],\n",
       "       [11.870881 ],\n",
       "       [11.203828 ],\n",
       "       [12.25495  ],\n",
       "       [ 8.644207 ],\n",
       "       [ 7.5124803],\n",
       "       [ 9.687671 ],\n",
       "       [22.485065 ],\n",
       "       [21.875809 ],\n",
       "       [22.97784  ],\n",
       "       [23.33759  ],\n",
       "       [23.111647 ],\n",
       "       [16.402916 ],\n",
       "       [ 9.445836 ],\n",
       "       [20.376202 ],\n",
       "       [22.849525 ],\n",
       "       [23.115726 ],\n",
       "       [19.845161 ],\n",
       "       [ 8.2583275],\n",
       "       [22.240284 ],\n",
       "       [22.981194 ],\n",
       "       [23.832329 ],\n",
       "       [ 8.3144455],\n",
       "       [10.054098 ],\n",
       "       [ 7.737883 ],\n",
       "       [ 7.2011576],\n",
       "       [18.315323 ],\n",
       "       [23.028522 ],\n",
       "       [18.328224 ],\n",
       "       [23.36596  ],\n",
       "       [23.331524 ],\n",
       "       [23.487099 ],\n",
       "       [23.095667 ],\n",
       "       [20.266697 ],\n",
       "       [ 8.156436 ],\n",
       "       [20.483307 ],\n",
       "       [21.250252 ],\n",
       "       [22.23352  ],\n",
       "       [23.202919 ],\n",
       "       [23.222992 ],\n",
       "       [23.467834 ],\n",
       "       [23.426634 ],\n",
       "       [20.436268 ],\n",
       "       [19.517414 ],\n",
       "       [23.67978  ],\n",
       "       [19.871227 ],\n",
       "       [22.406643 ],\n",
       "       [22.441402 ],\n",
       "       [23.155676 ],\n",
       "       [23.669224 ],\n",
       "       [24.135174 ],\n",
       "       [22.42025  ],\n",
       "       [21.768295 ],\n",
       "       [22.922733 ],\n",
       "       [22.811745 ],\n",
       "       [22.482775 ],\n",
       "       [22.651176 ],\n",
       "       [20.59132  ],\n",
       "       [19.158379 ],\n",
       "       [23.117634 ],\n",
       "       [23.343185 ],\n",
       "       [22.942724 ],\n",
       "       [23.21463  ],\n",
       "       [22.679056 ],\n",
       "       [22.461983 ],\n",
       "       [22.957676 ],\n",
       "       [23.32946  ],\n",
       "       [22.719866 ],\n",
       "       [23.324587 ],\n",
       "       [23.858168 ],\n",
       "       [23.48841  ],\n",
       "       [24.592287 ],\n",
       "       [24.183842 ],\n",
       "       [23.335907 ]], dtype=float32)"
      ]
     },
     "execution_count": 33,
     "metadata": {},
     "output_type": "execute_result"
    }
   ],
   "source": [
    "\n",
    "m.predict(inputs)"
   ]
  },
  {
   "cell_type": "code",
   "execution_count": 93,
   "metadata": {},
   "outputs": [
    {
     "data": {
      "text/plain": [
       "<matplotlib.axes._subplots.AxesSubplot at 0x1c371a67f60>"
      ]
     },
     "execution_count": 93,
     "metadata": {},
     "output_type": "execute_result"
    },
    {
     "data": {
      "image/png": "[encoded data removed]",
      "text/plain": [
       "<Figure size 432x288 with 12 Axes>"
      ]
     },
     "metadata": {
      "needs_background": "light"
     },
     "output_type": "display_data"
    }
   ],
   "source": [
    "## Creating Subplots of Price vrs all out Column Variables ##\n",
    "fig, axes = plt.subplots(nrows=4, ncols=3)\n",
    "\n",
    "house.plot(ax=axes[0,0],kind='scatter',x='PRICE',y='CRIM')\n",
    "house.plot(ax=axes[0,1],kind='scatter',x='PRICE',y='INDUS')\n",
    "house.plot(ax=axes[0,2],kind='scatter',x='CHAS',y='PRICE')\n",
    "house.plot(ax=axes[1,0],kind='scatter',x='PRICE',y='NOX')\n",
    "house.plot(ax=axes[1,1],kind='scatter',x='PRICE',y='RM')\n",
    "house.plot(ax=axes[1,2],kind='scatter',x='PRICE',y='AGE')\n",
    "house.plot(ax=axes[2,0],kind='scatter',x='PRICE',y='DIS')\n",
    "house.plot(ax=axes[2,1],kind='scatter',x='PRICE',y='RAD')\n",
    "house.plot(ax=axes[2,2],kind='scatter',x='PRICE',y='TAX')\n",
    "house.plot(ax=axes[3,0],kind='scatter',x='PRICE',y='PTRATIO')\n",
    "house.plot(ax=axes[3,1],kind='scatter',x='PRICE',y='B')\n",
    "house.plot(ax=axes[3,2],kind='scatter',x='PRICE',y='LSTAT')"
   ]
  },
  {
   "cell_type": "code",
   "execution_count": 66,
   "metadata": {},
   "outputs": [
    {
     "data": {
      "text/plain": [
       "<matplotlib.axes._subplots.AxesSubplot at 0x1c36fcd7438>"
      ]
     },
     "execution_count": 66,
     "metadata": {},
     "output_type": "execute_result"
    },
    {
     "data": {
      "image/png": "[encoded data removed]",
      "text/plain": [
       "<Figure size 432x288 with 1 Axes>"
      ]
     },
     "metadata": {
      "needs_background": "light"
     },
     "output_type": "display_data"
    }
   ],
   "source": [
    "\n",
    "plt.subplot(4, 3, 2)"
   ]
  },
  {
   "cell_type": "code",
   "execution_count": 73,
   "metadata": {},
   "outputs": [
    {
     "data": {
      "image/png": "[encoded data removed]",
      "text/plain": [
       "<Figure size 432x288 with 1 Axes>"
      ]
     },
     "metadata": {
      "needs_background": "light"
     },
     "output_type": "display_data"
    }
   ],
   "source": [
    "\n",
    "plt.subplot(4, 3, 3)"
   ]
  },
  {
   "cell_type": "code",
   "execution_count": 51,
   "metadata": {},
   "outputs": [
    {
     "data": {
      "text/plain": [
       "<matplotlib.axes._subplots.AxesSubplot at 0x1c36f508898>"
      ]
     },
     "execution_count": 51,
     "metadata": {},
     "output_type": "execute_result"
    },
    {
     "data": {
      "image/png": "[encoded data removed]",
      "text/plain": [
       "<Figure size 432x288 with 1 Axes>"
      ]
     },
     "metadata": {
      "needs_background": "light"
     },
     "output_type": "display_data"
    }
   ],
   "source": []
  },
  {
   "cell_type": "code",
   "execution_count": 52,
   "metadata": {},
   "outputs": [
    {
     "data": {
      "text/plain": [
       "<matplotlib.axes._subplots.AxesSubplot at 0x1c36f5607b8>"
      ]
     },
     "execution_count": 52,
     "metadata": {},
     "output_type": "execute_result"
    },
    {
     "data": {
      "image/png": "[encoded data removed]",
      "text/plain": [
       "<Figure size 432x288 with 1 Axes>"
      ]
     },
     "metadata": {
      "needs_background": "light"
     },
     "output_type": "display_data"
    }
   ],
   "source": []
  },
  {
   "cell_type": "code",
   "execution_count": 53,
   "metadata": {},
   "outputs": [
    {
     "data": {
      "text/plain": [
       "<matplotlib.axes._subplots.AxesSubplot at 0x1c36f560048>"
      ]
     },
     "execution_count": 53,
     "metadata": {},
     "output_type": "execute_result"
    },
    {
     "data": {
      "image/png": "[encoded data removed]",
      "text/plain": [
       "<Figure size 432x288 with 1 Axes>"
      ]
     },
     "metadata": {
      "needs_background": "light"
     },
     "output_type": "display_data"
    }
   ],
   "source": []
  },
  {
   "cell_type": "code",
   "execution_count": 55,
   "metadata": {},
   "outputs": [
    {
     "data": {
      "text/plain": [
       "<matplotlib.axes._subplots.AxesSubplot at 0x1c36f645e10>"
      ]
     },
     "execution_count": 55,
     "metadata": {},
     "output_type": "execute_result"
    },
    {
     "data": {
      "image/png": "[encoded data removed]",
      "text/plain": [
       "<Figure size 432x288 with 1 Axes>"
      ]
     },
     "metadata": {
      "needs_background": "light"
     },
     "output_type": "display_data"
    }
   ],
   "source": []
  },
  {
   "cell_type": "code",
   "execution_count": 56,
   "metadata": {},
   "outputs": [
    {
     "data": {
      "text/plain": [
       "<matplotlib.axes._subplots.AxesSubplot at 0x1c36f6c6400>"
      ]
     },
     "execution_count": 56,
     "metadata": {},
     "output_type": "execute_result"
    },
    {
     "data": {
      "image/png": "[encoded data removed]",
      "text/plain": [
       "<Figure size 432x288 with 1 Axes>"
      ]
     },
     "metadata": {
      "needs_background": "light"
     },
     "output_type": "display_data"
    }
   ],
   "source": []
  },
  {
   "cell_type": "code",
   "execution_count": 57,
   "metadata": {},
   "outputs": [
    {
     "data": {
      "text/plain": [
       "<matplotlib.axes._subplots.AxesSubplot at 0x1c36f6c65f8>"
      ]
     },
     "execution_count": 57,
     "metadata": {},
     "output_type": "execute_result"
    },
    {
     "data": {
      "image/png": "[encoded data removed]",
      "text/plain": [
       "<Figure size 432x288 with 1 Axes>"
      ]
     },
     "metadata": {
      "needs_background": "light"
     },
     "output_type": "display_data"
    }
   ],
   "source": []
  },
  {
   "cell_type": "code",
   "execution_count": 58,
   "metadata": {},
   "outputs": [
    {
     "data": {
      "text/plain": [
       "<matplotlib.axes._subplots.AxesSubplot at 0x1c36f77a470>"
      ]
     },
     "execution_count": 58,
     "metadata": {},
     "output_type": "execute_result"
    },
    {
     "data": {
      "image/png": "[encoded data removed]",
      "text/plain": [
       "<Figure size 432x288 with 1 Axes>"
      ]
     },
     "metadata": {
      "needs_background": "light"
     },
     "output_type": "display_data"
    }
   ],
   "source": []
  },
  {
   "cell_type": "code",
   "execution_count": 62,
   "metadata": {},
   "outputs": [
    {
     "data": {
      "text/plain": [
       "<matplotlib.axes._subplots.AxesSubplot at 0x1c36fce5da0>"
      ]
     },
     "execution_count": 62,
     "metadata": {},
     "output_type": "execute_result"
    },
    {
     "data": {
      "image/png": "[encoded data removed]",
      "text/plain": [
       "<Figure size 432x288 with 1 Axes>"
      ]
     },
     "metadata": {
      "needs_background": "light"
     },
     "output_type": "display_data"
    }
   ],
   "source": []
  },
  {
   "cell_type": "code",
   "execution_count": 63,
   "metadata": {},
   "outputs": [
    {
     "data": {
      "text/plain": [
       "<matplotlib.axes._subplots.AxesSubplot at 0x1c370363358>"
      ]
     },
     "execution_count": 63,
     "metadata": {},
     "output_type": "execute_result"
    },
    {
     "data": {
      "image/png": "[encoded data removed]",
      "text/plain": [
       "<Figure size 432x288 with 1 Axes>"
      ]
     },
     "metadata": {
      "needs_background": "light"
     },
     "output_type": "display_data"
    }
   ],
   "source": []
  }
 ],
 "metadata": {
  "kernelspec": {
   "display_name": "Python 3",
   "language": "python",
   "name": "python3"
  },
  "language_info": {
   "codemirror_mode": {
    "name": "ipython",
    "version": 3
   },
   "file_extension": ".py",
   "mimetype": "text/x-python",
   "name": "python",
   "nbconvert_exporter": "python",
   "pygments_lexer": "ipython3",
   "version": "3.7.3"
  }
 },
 "nbformat": 4,
 "nbformat_minor": 4
}
