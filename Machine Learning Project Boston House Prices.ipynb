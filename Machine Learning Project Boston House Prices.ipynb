{
 "cells": [
  {
   "cell_type": "markdown",
   "metadata": {},
   "source": [
    "# Machine Learning Project 2019\n",
    "## Author; Shane Canny\n",
    "## Project Title; Analysis of the Boston House Price Data Set"
   ]
  },
  {
   "cell_type": "markdown",
   "metadata": {},
   "source": [
    "## Introduction. ##\n",
    "\n",
    "The following report documents the analysis of the 2019 Machine Learning module project. The project requirements are broken into three sections:\n",
    "\n",
    "1. **Describe:** Use descriptive statistics and plots to describe the Boston House Prices dataset.\n",
    "2. **Infer:** Use inferential statistics to analyse whether there is a signiﬁcant diﬀerence in median house prices between houses that are along the Charles river and those that aren’t.\n",
    "3. **Predict:** Use keras to create a neural network that can predict the median house price based on the other variables in the dataset. \n",
    "\n",
    "**Pre-requistes**\n",
    "\n",
    "A number of pre-requistes have to be completed prior to formally conducting analysis on the Boston House Price Data Set. These pre-requistes can be broken down into the following requirements:\n",
    "\n",
    "1. Import Python Libraries / Packages that maybe required during the analysis of the data set.\n",
    "2. Importing the data set from sklearn library.\n",
    "3. Once the data set is imported, listing the data set to understand what is inlcuded in the raw data.\n",
    "\n",
    "Once the pre-requistes have been met organising the data into a format that can be used to output descriptive statistics and allow inferences to be made can be undertake."
   ]
  },
  {
   "cell_type": "markdown",
   "metadata": {},
   "source": [
    "**Pre-Requiste 1**\n",
    "\n",
    "The first pre-requiste is to import the required python packages to conduct analysis on the Boston House Price data set. The line items below list the python libraries imported to allow analysis of the data set."
   ]
  },
  {
   "cell_type": "code",
   "execution_count": 1,
   "metadata": {},
   "outputs": [
    {
     "name": "stderr",
     "output_type": "stream",
     "text": [
      "Using TensorFlow backend.\n"
     ]
    }
   ],
   "source": [
    "## Importing the required libraries for required for later analysis##\n",
    "import numpy as np\n",
    "import pandas as pd\n",
    "import scipy.stats as stats\n",
    "import matplotlib.pyplot as plt\n",
    "import sklearn\n",
    "import statsmodels.api as sm\n",
    "import seaborn as sns\n",
    "import keras as ks\n",
    "from keras.models import Sequential\n",
    "from statsmodels.graphics.gofplots import qqplot"
   ]
  },
  {
   "cell_type": "markdown",
   "metadata": {},
   "source": [
    "**Pre-Requiste 2**\n",
    "\n",
    "The second pre-requiste is met with the following line items of code. The Boston House Price data set is imported from sklearn as load_boston and renamed as \"boston\" for future analysis.\n",
    "\n",
    "To visualise what the data set is made up of, variables were set against the dictionary keys and the variables where printed. "
   ]
  },
  {
   "cell_type": "code",
   "execution_count": 2,
   "metadata": {},
   "outputs": [],
   "source": [
    "## Importing the data set from the internal sklearn library within Pythion ##\n",
    "\n",
    "from sklearn.datasets import load_boston\n",
    "boston = load_boston()"
   ]
  },
  {
   "cell_type": "code",
   "execution_count": 3,
   "metadata": {},
   "outputs": [
    {
     "name": "stdout",
     "output_type": "stream",
     "text": [
      "dict_keys(['data', 'target', 'feature_names', 'DESCR', 'filename'])\n"
     ]
    }
   ],
   "source": [
    "## As the file is a dictionary, printing the dictionary keys ##\n",
    "x=boston.keys()\n",
    "print (x)"
   ]
  },
  {
   "cell_type": "markdown",
   "metadata": {},
   "source": [
    "**Pre-Requiste 3**\n",
    "\n",
    "The thirde and final pre-requiste is content with the following lines. The pre-requistes data preparation steps to allow the author to understand what the data set is made up of and also the basis for creating dataframes that can be edited, graphed and manipulated for the purposes of data analysis."
   ]
  },
  {
   "cell_type": "code",
   "execution_count": 4,
   "metadata": {},
   "outputs": [
    {
     "name": "stdout",
     "output_type": "stream",
     "text": [
      "['CRIM' 'ZN' 'INDUS' 'CHAS' 'NOX' 'RM' 'AGE' 'DIS' 'RAD' 'TAX' 'PTRATIO'\n",
      " 'B' 'LSTAT']\n"
     ]
    }
   ],
   "source": [
    "print(boston.feature_names)"
   ]
  },
  {
   "cell_type": "code",
   "execution_count": 5,
   "metadata": {},
   "outputs": [
    {
     "name": "stdout",
     "output_type": "stream",
     "text": [
      ".. _boston_dataset:\n",
      "\n",
      "Boston house prices dataset\n",
      "---------------------------\n",
      "\n",
      "**Data Set Characteristics:**  \n",
      "\n",
      "    :Number of Instances: 506 \n",
      "\n",
      "    :Number of Attributes: 13 numeric/categorical predictive. Median Value (attribute 14) is usually the target.\n",
      "\n",
      "    :Attribute Information (in order):\n",
      "        - CRIM     per capita crime rate by town\n",
      "        - ZN       proportion of residential land zoned for lots over 25,000 sq.ft.\n",
      "        - INDUS    proportion of non-retail business acres per town\n",
      "        - CHAS     Charles River dummy variable (= 1 if tract bounds river; 0 otherwise)\n",
      "        - NOX      nitric oxides concentration (parts per 10 million)\n",
      "        - RM       average number of rooms per dwelling\n",
      "        - AGE      proportion of owner-occupied units built prior to 1940\n",
      "        - DIS      weighted distances to five Boston employment centres\n",
      "        - RAD      index of accessibility to radial highways\n",
      "        - TAX      full-value property-tax rate per $10,000\n",
      "        - PTRATIO  pupil-teacher ratio by town\n",
      "        - B        1000(Bk - 0.63)^2 where Bk is the proportion of blacks by town\n",
      "        - LSTAT    % lower status of the population\n",
      "        - MEDV     Median value of owner-occupied homes in $1000's\n",
      "\n",
      "    :Missing Attribute Values: None\n",
      "\n",
      "    :Creator: Harrison, D. and Rubinfeld, D.L.\n",
      "\n",
      "This is a copy of UCI ML housing dataset.\n",
      "https://archive.ics.uci.edu/ml/machine-learning-databases/housing/\n",
      "\n",
      "\n",
      "This dataset was taken from the StatLib library which is maintained at Carnegie Mellon University.\n",
      "\n",
      "The Boston house-price data of Harrison, D. and Rubinfeld, D.L. 'Hedonic\n",
      "prices and the demand for clean air', J. Environ. Economics & Management,\n",
      "vol.5, 81-102, 1978.   Used in Belsley, Kuh & Welsch, 'Regression diagnostics\n",
      "...', Wiley, 1980.   N.B. Various transformations are used in the table on\n",
      "pages 244-261 of the latter.\n",
      "\n",
      "The Boston house-price data has been used in many machine learning papers that address regression\n",
      "problems.   \n",
      "     \n",
      ".. topic:: References\n",
      "\n",
      "   - Belsley, Kuh & Welsch, 'Regression diagnostics: Identifying Influential Data and Sources of Collinearity', Wiley, 1980. 244-261.\n",
      "   - Quinlan,R. (1993). Combining Instance-Based and Model-Based Learning. In Proceedings on the Tenth International Conference of Machine Learning, 236-243, University of Massachusetts, Amherst. Morgan Kaufmann.\n",
      "\n"
     ]
    }
   ],
   "source": [
    "print(boston.DESCR)"
   ]
  },
  {
   "cell_type": "code",
   "execution_count": 6,
   "metadata": {},
   "outputs": [],
   "source": [
    "## For later manipluation creating a pandas dataframe of the data set, setting the variable as house ##\n",
    "house = pd.DataFrame(boston.data)"
   ]
  },
  {
   "cell_type": "code",
   "execution_count": 7,
   "metadata": {},
   "outputs": [],
   "source": [
    "## Setting each column to its correct designation ##\n",
    "house.columns=boston.feature_names"
   ]
  },
  {
   "cell_type": "code",
   "execution_count": 8,
   "metadata": {},
   "outputs": [],
   "source": [
    "## Adding the 14th Column i.e. target to Price\n",
    "house['PRICE'] = boston.target"
   ]
  },
  {
   "cell_type": "code",
   "execution_count": 9,
   "metadata": {},
   "outputs": [],
   "source": [
    "## Creating a new DataFrame of the original house price ##\n",
    "Original_House_Price=house['PRICE']\n",
    "\n",
    "## Renaming Columns Names for Clarity ##\n",
    "Original_House_Price.columns = ['Combined Price of Houses']"
   ]
  },
  {
   "cell_type": "code",
   "execution_count": 10,
   "metadata": {},
   "outputs": [],
   "source": [
    "## Exporting the dataframe to an external location as a .csv file\n",
    "export_csv=house.to_csv(r'C:\\Users\\Shane\\Desktop\\2019 Projects\\Machine Learning\\bostonhouse.csv')"
   ]
  },
  {
   "cell_type": "markdown",
   "metadata": {},
   "source": [
    "**Describe**\n",
    "\n",
    "The first part of the machine learning project is to use descriptive statistics to describe the Boston House Price data set. Below the \"describe\" command is used to provide a simple break down of the primary hands on statistics in relation to the Boston House Price data set.\n",
    "\n",
    "A fundamental process in trying to understand what the data implies is using visual aids such as graphs and plots to help hypothesis relationships within the data set. "
   ]
  },
  {
   "cell_type": "code",
   "execution_count": 11,
   "metadata": {},
   "outputs": [
    {
     "data": {
      "text/html": [
       "<div>\n",
       "<style scoped>\n",
       "    .dataframe tbody tr th:only-of-type {\n",
       "        vertical-align: middle;\n",
       "    }\n",
       "\n",
       "    .dataframe tbody tr th {\n",
       "        vertical-align: top;\n",
       "    }\n",
       "\n",
       "    .dataframe thead th {\n",
       "        text-align: right;\n",
       "    }\n",
       "</style>\n",
       "<table border=\"1\" class=\"dataframe\">\n",
       "  <thead>\n",
       "    <tr style=\"text-align: right;\">\n",
       "      <th></th>\n",
       "      <th>CRIM</th>\n",
       "      <th>ZN</th>\n",
       "      <th>INDUS</th>\n",
       "      <th>CHAS</th>\n",
       "      <th>NOX</th>\n",
       "      <th>RM</th>\n",
       "      <th>AGE</th>\n",
       "      <th>DIS</th>\n",
       "      <th>RAD</th>\n",
       "      <th>TAX</th>\n",
       "      <th>PTRATIO</th>\n",
       "      <th>B</th>\n",
       "      <th>LSTAT</th>\n",
       "      <th>PRICE</th>\n",
       "    </tr>\n",
       "  </thead>\n",
       "  <tbody>\n",
       "    <tr>\n",
       "      <th>count</th>\n",
       "      <td>506.000000</td>\n",
       "      <td>506.000000</td>\n",
       "      <td>506.000000</td>\n",
       "      <td>506.000000</td>\n",
       "      <td>506.000000</td>\n",
       "      <td>506.000000</td>\n",
       "      <td>506.000000</td>\n",
       "      <td>506.000000</td>\n",
       "      <td>506.000000</td>\n",
       "      <td>506.000000</td>\n",
       "      <td>506.000000</td>\n",
       "      <td>506.000000</td>\n",
       "      <td>506.000000</td>\n",
       "      <td>506.000000</td>\n",
       "    </tr>\n",
       "    <tr>\n",
       "      <th>mean</th>\n",
       "      <td>3.613524</td>\n",
       "      <td>11.363636</td>\n",
       "      <td>11.136779</td>\n",
       "      <td>0.069170</td>\n",
       "      <td>0.554695</td>\n",
       "      <td>6.284634</td>\n",
       "      <td>68.574901</td>\n",
       "      <td>3.795043</td>\n",
       "      <td>9.549407</td>\n",
       "      <td>408.237154</td>\n",
       "      <td>18.455534</td>\n",
       "      <td>356.674032</td>\n",
       "      <td>12.653063</td>\n",
       "      <td>22.532806</td>\n",
       "    </tr>\n",
       "    <tr>\n",
       "      <th>std</th>\n",
       "      <td>8.601545</td>\n",
       "      <td>23.322453</td>\n",
       "      <td>6.860353</td>\n",
       "      <td>0.253994</td>\n",
       "      <td>0.115878</td>\n",
       "      <td>0.702617</td>\n",
       "      <td>28.148861</td>\n",
       "      <td>2.105710</td>\n",
       "      <td>8.707259</td>\n",
       "      <td>168.537116</td>\n",
       "      <td>2.164946</td>\n",
       "      <td>91.294864</td>\n",
       "      <td>7.141062</td>\n",
       "      <td>9.197104</td>\n",
       "    </tr>\n",
       "    <tr>\n",
       "      <th>min</th>\n",
       "      <td>0.006320</td>\n",
       "      <td>0.000000</td>\n",
       "      <td>0.460000</td>\n",
       "      <td>0.000000</td>\n",
       "      <td>0.385000</td>\n",
       "      <td>3.561000</td>\n",
       "      <td>2.900000</td>\n",
       "      <td>1.129600</td>\n",
       "      <td>1.000000</td>\n",
       "      <td>187.000000</td>\n",
       "      <td>12.600000</td>\n",
       "      <td>0.320000</td>\n",
       "      <td>1.730000</td>\n",
       "      <td>5.000000</td>\n",
       "    </tr>\n",
       "    <tr>\n",
       "      <th>25%</th>\n",
       "      <td>0.082045</td>\n",
       "      <td>0.000000</td>\n",
       "      <td>5.190000</td>\n",
       "      <td>0.000000</td>\n",
       "      <td>0.449000</td>\n",
       "      <td>5.885500</td>\n",
       "      <td>45.025000</td>\n",
       "      <td>2.100175</td>\n",
       "      <td>4.000000</td>\n",
       "      <td>279.000000</td>\n",
       "      <td>17.400000</td>\n",
       "      <td>375.377500</td>\n",
       "      <td>6.950000</td>\n",
       "      <td>17.025000</td>\n",
       "    </tr>\n",
       "    <tr>\n",
       "      <th>50%</th>\n",
       "      <td>0.256510</td>\n",
       "      <td>0.000000</td>\n",
       "      <td>9.690000</td>\n",
       "      <td>0.000000</td>\n",
       "      <td>0.538000</td>\n",
       "      <td>6.208500</td>\n",
       "      <td>77.500000</td>\n",
       "      <td>3.207450</td>\n",
       "      <td>5.000000</td>\n",
       "      <td>330.000000</td>\n",
       "      <td>19.050000</td>\n",
       "      <td>391.440000</td>\n",
       "      <td>11.360000</td>\n",
       "      <td>21.200000</td>\n",
       "    </tr>\n",
       "    <tr>\n",
       "      <th>75%</th>\n",
       "      <td>3.677083</td>\n",
       "      <td>12.500000</td>\n",
       "      <td>18.100000</td>\n",
       "      <td>0.000000</td>\n",
       "      <td>0.624000</td>\n",
       "      <td>6.623500</td>\n",
       "      <td>94.075000</td>\n",
       "      <td>5.188425</td>\n",
       "      <td>24.000000</td>\n",
       "      <td>666.000000</td>\n",
       "      <td>20.200000</td>\n",
       "      <td>396.225000</td>\n",
       "      <td>16.955000</td>\n",
       "      <td>25.000000</td>\n",
       "    </tr>\n",
       "    <tr>\n",
       "      <th>max</th>\n",
       "      <td>88.976200</td>\n",
       "      <td>100.000000</td>\n",
       "      <td>27.740000</td>\n",
       "      <td>1.000000</td>\n",
       "      <td>0.871000</td>\n",
       "      <td>8.780000</td>\n",
       "      <td>100.000000</td>\n",
       "      <td>12.126500</td>\n",
       "      <td>24.000000</td>\n",
       "      <td>711.000000</td>\n",
       "      <td>22.000000</td>\n",
       "      <td>396.900000</td>\n",
       "      <td>37.970000</td>\n",
       "      <td>50.000000</td>\n",
       "    </tr>\n",
       "  </tbody>\n",
       "</table>\n",
       "</div>"
      ],
      "text/plain": [
       "             CRIM          ZN       INDUS        CHAS         NOX          RM  \\\n",
       "count  506.000000  506.000000  506.000000  506.000000  506.000000  506.000000   \n",
       "mean     3.613524   11.363636   11.136779    0.069170    0.554695    6.284634   \n",
       "std      8.601545   23.322453    6.860353    0.253994    0.115878    0.702617   \n",
       "min      0.006320    0.000000    0.460000    0.000000    0.385000    3.561000   \n",
       "25%      0.082045    0.000000    5.190000    0.000000    0.449000    5.885500   \n",
       "50%      0.256510    0.000000    9.690000    0.000000    0.538000    6.208500   \n",
       "75%      3.677083   12.500000   18.100000    0.000000    0.624000    6.623500   \n",
       "max     88.976200  100.000000   27.740000    1.000000    0.871000    8.780000   \n",
       "\n",
       "              AGE         DIS         RAD         TAX     PTRATIO           B  \\\n",
       "count  506.000000  506.000000  506.000000  506.000000  506.000000  506.000000   \n",
       "mean    68.574901    3.795043    9.549407  408.237154   18.455534  356.674032   \n",
       "std     28.148861    2.105710    8.707259  168.537116    2.164946   91.294864   \n",
       "min      2.900000    1.129600    1.000000  187.000000   12.600000    0.320000   \n",
       "25%     45.025000    2.100175    4.000000  279.000000   17.400000  375.377500   \n",
       "50%     77.500000    3.207450    5.000000  330.000000   19.050000  391.440000   \n",
       "75%     94.075000    5.188425   24.000000  666.000000   20.200000  396.225000   \n",
       "max    100.000000   12.126500   24.000000  711.000000   22.000000  396.900000   \n",
       "\n",
       "            LSTAT       PRICE  \n",
       "count  506.000000  506.000000  \n",
       "mean    12.653063   22.532806  \n",
       "std      7.141062    9.197104  \n",
       "min      1.730000    5.000000  \n",
       "25%      6.950000   17.025000  \n",
       "50%     11.360000   21.200000  \n",
       "75%     16.955000   25.000000  \n",
       "max     37.970000   50.000000  "
      ]
     },
     "execution_count": 11,
     "metadata": {},
     "output_type": "execute_result"
    }
   ],
   "source": [
    "## List Descriptive Statistics of the dataframe ##\n",
    "house.describe()"
   ]
  },
  {
   "cell_type": "code",
   "execution_count": 12,
   "metadata": {},
   "outputs": [],
   "source": [
    "## Creating a Pair Plot for all the house data and using hue coloring for the variable CHAS to identigy graphs that could potential show relationship with location along the river ## ##\n",
    "##sns.pairplot(house, hue = 'CHAS', height=2.5)\n",
    "##plt.tight_layout()"
   ]
  },
  {
   "cell_type": "markdown",
   "metadata": {},
   "source": [
    "The pair plot above is a busy graph and in one aspect can be overwhelming with information. But for the purposes of this analysis and with a critical eye to the inferal section of this project we can focus in on the \"CHAS\" title along the x-axis. Using the \"hue\" in conduction with CHAS it has allowed the differentiation of the Charles River dummy variable i.e. (Orange = 1 if tract bounds river; Blue = 0 otherwise). From this we can plot in greater detail data sets that may have a dependency on each other."
   ]
  },
  {
   "cell_type": "code",
   "execution_count": 13,
   "metadata": {},
   "outputs": [],
   "source": [
    "## Creating a new DataFrame for the price of houses ##\n",
    "river_house_price = pd.DataFrame(house, columns = ['CHAS', 'PRICE'])  "
   ]
  },
  {
   "cell_type": "code",
   "execution_count": 14,
   "metadata": {},
   "outputs": [
    {
     "data": {
      "text/html": [
       "<div>\n",
       "<style scoped>\n",
       "    .dataframe tbody tr th:only-of-type {\n",
       "        vertical-align: middle;\n",
       "    }\n",
       "\n",
       "    .dataframe tbody tr th {\n",
       "        vertical-align: top;\n",
       "    }\n",
       "\n",
       "    .dataframe thead th {\n",
       "        text-align: right;\n",
       "    }\n",
       "</style>\n",
       "<table border=\"1\" class=\"dataframe\">\n",
       "  <thead>\n",
       "    <tr style=\"text-align: right;\">\n",
       "      <th></th>\n",
       "      <th>CHAS</th>\n",
       "      <th>Price of House Not Along River</th>\n",
       "    </tr>\n",
       "  </thead>\n",
       "  <tbody>\n",
       "    <tr>\n",
       "      <th>count</th>\n",
       "      <td>471.0</td>\n",
       "      <td>471.000000</td>\n",
       "    </tr>\n",
       "    <tr>\n",
       "      <th>mean</th>\n",
       "      <td>0.0</td>\n",
       "      <td>22.093843</td>\n",
       "    </tr>\n",
       "    <tr>\n",
       "      <th>std</th>\n",
       "      <td>0.0</td>\n",
       "      <td>8.831362</td>\n",
       "    </tr>\n",
       "    <tr>\n",
       "      <th>min</th>\n",
       "      <td>0.0</td>\n",
       "      <td>5.000000</td>\n",
       "    </tr>\n",
       "    <tr>\n",
       "      <th>25%</th>\n",
       "      <td>0.0</td>\n",
       "      <td>16.600000</td>\n",
       "    </tr>\n",
       "    <tr>\n",
       "      <th>50%</th>\n",
       "      <td>0.0</td>\n",
       "      <td>20.900000</td>\n",
       "    </tr>\n",
       "    <tr>\n",
       "      <th>75%</th>\n",
       "      <td>0.0</td>\n",
       "      <td>24.800000</td>\n",
       "    </tr>\n",
       "    <tr>\n",
       "      <th>max</th>\n",
       "      <td>0.0</td>\n",
       "      <td>50.000000</td>\n",
       "    </tr>\n",
       "  </tbody>\n",
       "</table>\n",
       "</div>"
      ],
      "text/plain": [
       "        CHAS  Price of House Not Along River\n",
       "count  471.0                      471.000000\n",
       "mean     0.0                       22.093843\n",
       "std      0.0                        8.831362\n",
       "min      0.0                        5.000000\n",
       "25%      0.0                       16.600000\n",
       "50%      0.0                       20.900000\n",
       "75%      0.0                       24.800000\n",
       "max      0.0                       50.000000"
      ]
     },
     "execution_count": 14,
     "metadata": {},
     "output_type": "execute_result"
    }
   ],
   "source": [
    "\n",
    "## Creating a dataframe of house and prices that are not along the river ##\n",
    "house_away_from_river=river_house_price[river_house_price.CHAS == 0]\n",
    "\n",
    "## Renaming Columns Names for Clarity ##\n",
    "house_away_from_river.columns = ['CHAS', 'Price of House Not Along River']\n",
    "\n",
    "## Listing Summary Statistics for Price of House ot along the river ##\n",
    "house_away_from_river.describe()"
   ]
  },
  {
   "cell_type": "code",
   "execution_count": 15,
   "metadata": {},
   "outputs": [
    {
     "data": {
      "text/html": [
       "<div>\n",
       "<style scoped>\n",
       "    .dataframe tbody tr th:only-of-type {\n",
       "        vertical-align: middle;\n",
       "    }\n",
       "\n",
       "    .dataframe tbody tr th {\n",
       "        vertical-align: top;\n",
       "    }\n",
       "\n",
       "    .dataframe thead th {\n",
       "        text-align: right;\n",
       "    }\n",
       "</style>\n",
       "<table border=\"1\" class=\"dataframe\">\n",
       "  <thead>\n",
       "    <tr style=\"text-align: right;\">\n",
       "      <th></th>\n",
       "      <th>CHAS</th>\n",
       "      <th>Price of House Along River</th>\n",
       "    </tr>\n",
       "  </thead>\n",
       "  <tbody>\n",
       "    <tr>\n",
       "      <th>count</th>\n",
       "      <td>35.0</td>\n",
       "      <td>35.000000</td>\n",
       "    </tr>\n",
       "    <tr>\n",
       "      <th>mean</th>\n",
       "      <td>1.0</td>\n",
       "      <td>28.440000</td>\n",
       "    </tr>\n",
       "    <tr>\n",
       "      <th>std</th>\n",
       "      <td>0.0</td>\n",
       "      <td>11.816643</td>\n",
       "    </tr>\n",
       "    <tr>\n",
       "      <th>min</th>\n",
       "      <td>1.0</td>\n",
       "      <td>13.400000</td>\n",
       "    </tr>\n",
       "    <tr>\n",
       "      <th>25%</th>\n",
       "      <td>1.0</td>\n",
       "      <td>21.100000</td>\n",
       "    </tr>\n",
       "    <tr>\n",
       "      <th>50%</th>\n",
       "      <td>1.0</td>\n",
       "      <td>23.300000</td>\n",
       "    </tr>\n",
       "    <tr>\n",
       "      <th>75%</th>\n",
       "      <td>1.0</td>\n",
       "      <td>33.150000</td>\n",
       "    </tr>\n",
       "    <tr>\n",
       "      <th>max</th>\n",
       "      <td>1.0</td>\n",
       "      <td>50.000000</td>\n",
       "    </tr>\n",
       "  </tbody>\n",
       "</table>\n",
       "</div>"
      ],
      "text/plain": [
       "       CHAS  Price of House Along River\n",
       "count  35.0                   35.000000\n",
       "mean    1.0                   28.440000\n",
       "std     0.0                   11.816643\n",
       "min     1.0                   13.400000\n",
       "25%     1.0                   21.100000\n",
       "50%     1.0                   23.300000\n",
       "75%     1.0                   33.150000\n",
       "max     1.0                   50.000000"
      ]
     },
     "execution_count": 15,
     "metadata": {},
     "output_type": "execute_result"
    }
   ],
   "source": [
    "## Creating a dataframe of houses and prices that are along the river ##\n",
    "house_along_river=river_house_price[river_house_price.CHAS == 1]\n",
    "\n",
    "## Renaming Columns Names for Clarity ##\n",
    "house_along_river.columns = ['CHAS', 'Price of House Along River']\n",
    "\n",
    "## Listing Summary Statistics for Price of Houses along the river ##\n",
    "house_along_river.describe()"
   ]
  },
  {
   "cell_type": "code",
   "execution_count": 16,
   "metadata": {},
   "outputs": [
    {
     "data": {
      "text/html": [
       "<div>\n",
       "<style scoped>\n",
       "    .dataframe tbody tr th:only-of-type {\n",
       "        vertical-align: middle;\n",
       "    }\n",
       "\n",
       "    .dataframe tbody tr th {\n",
       "        vertical-align: top;\n",
       "    }\n",
       "\n",
       "    .dataframe thead th {\n",
       "        text-align: right;\n",
       "    }\n",
       "</style>\n",
       "<table border=\"1\" class=\"dataframe\">\n",
       "  <thead>\n",
       "    <tr style=\"text-align: right;\">\n",
       "      <th></th>\n",
       "      <th>CHAS</th>\n",
       "      <th>Price of House Not Along River</th>\n",
       "      <th>CHAS</th>\n",
       "      <th>Price of House Along River</th>\n",
       "      <th>PRICE</th>\n",
       "    </tr>\n",
       "  </thead>\n",
       "  <tbody>\n",
       "    <tr>\n",
       "      <th>count</th>\n",
       "      <td>471.0</td>\n",
       "      <td>471.000000</td>\n",
       "      <td>35.0</td>\n",
       "      <td>35.000000</td>\n",
       "      <td>506.000000</td>\n",
       "    </tr>\n",
       "    <tr>\n",
       "      <th>mean</th>\n",
       "      <td>0.0</td>\n",
       "      <td>22.093843</td>\n",
       "      <td>1.0</td>\n",
       "      <td>28.440000</td>\n",
       "      <td>22.532806</td>\n",
       "    </tr>\n",
       "    <tr>\n",
       "      <th>std</th>\n",
       "      <td>0.0</td>\n",
       "      <td>8.831362</td>\n",
       "      <td>0.0</td>\n",
       "      <td>11.816643</td>\n",
       "      <td>9.197104</td>\n",
       "    </tr>\n",
       "    <tr>\n",
       "      <th>min</th>\n",
       "      <td>0.0</td>\n",
       "      <td>5.000000</td>\n",
       "      <td>1.0</td>\n",
       "      <td>13.400000</td>\n",
       "      <td>5.000000</td>\n",
       "    </tr>\n",
       "    <tr>\n",
       "      <th>25%</th>\n",
       "      <td>0.0</td>\n",
       "      <td>16.600000</td>\n",
       "      <td>1.0</td>\n",
       "      <td>21.100000</td>\n",
       "      <td>17.025000</td>\n",
       "    </tr>\n",
       "    <tr>\n",
       "      <th>50%</th>\n",
       "      <td>0.0</td>\n",
       "      <td>20.900000</td>\n",
       "      <td>1.0</td>\n",
       "      <td>23.300000</td>\n",
       "      <td>21.200000</td>\n",
       "    </tr>\n",
       "    <tr>\n",
       "      <th>75%</th>\n",
       "      <td>0.0</td>\n",
       "      <td>24.800000</td>\n",
       "      <td>1.0</td>\n",
       "      <td>33.150000</td>\n",
       "      <td>25.000000</td>\n",
       "    </tr>\n",
       "    <tr>\n",
       "      <th>max</th>\n",
       "      <td>0.0</td>\n",
       "      <td>50.000000</td>\n",
       "      <td>1.0</td>\n",
       "      <td>50.000000</td>\n",
       "      <td>50.000000</td>\n",
       "    </tr>\n",
       "  </tbody>\n",
       "</table>\n",
       "</div>"
      ],
      "text/plain": [
       "        CHAS  Price of House Not Along River  CHAS  \\\n",
       "count  471.0                      471.000000  35.0   \n",
       "mean     0.0                       22.093843   1.0   \n",
       "std      0.0                        8.831362   0.0   \n",
       "min      0.0                        5.000000   1.0   \n",
       "25%      0.0                       16.600000   1.0   \n",
       "50%      0.0                       20.900000   1.0   \n",
       "75%      0.0                       24.800000   1.0   \n",
       "max      0.0                       50.000000   1.0   \n",
       "\n",
       "       Price of House Along River       PRICE  \n",
       "count                   35.000000  506.000000  \n",
       "mean                    28.440000   22.532806  \n",
       "std                     11.816643    9.197104  \n",
       "min                     13.400000    5.000000  \n",
       "25%                     21.100000   17.025000  \n",
       "50%                     23.300000   21.200000  \n",
       "75%                     33.150000   25.000000  \n",
       "max                     50.000000   50.000000  "
      ]
     },
     "execution_count": 16,
     "metadata": {},
     "output_type": "execute_result"
    }
   ],
   "source": [
    "## Creating a new table of Price of Housing ##\n",
    "Price_of_Housing = pd.concat([house_away_from_river,house_along_river,Original_House_Price], axis=1)\n",
    "Price_of_Housing.describe()"
   ]
  },
  {
   "cell_type": "code",
   "execution_count": 17,
   "metadata": {},
   "outputs": [
    {
     "data": {
      "image/png": "[encoded data removed]",
      "text/plain": [
       "<Figure size 432x288 with 1 Axes>"
      ]
     },
     "metadata": {
      "needs_background": "light"
     },
     "output_type": "display_data"
    }
   ],
   "source": [
    "## Creating a BoxPlot of the House prices to visual observe the data ##\n",
    "\n",
    "boxplot = Price_of_Housing.boxplot(column=['Price of House Not Along River', 'Price of House Along River', 'PRICE'],grid=False, rot=90, fontsize=15)\n"
   ]
  },
  {
   "cell_type": "code",
   "execution_count": 18,
   "metadata": {},
   "outputs": [],
   "source": [
    "## Setting x as the value of all the House Prices from the Original Data ##\n",
    "x = Price_of_Housing.loc[:, 'PRICE']"
   ]
  },
  {
   "cell_type": "code",
   "execution_count": 19,
   "metadata": {},
   "outputs": [],
   "source": [
    "### Getting ride of the NAN from the House Prices not along the river i.e. CHAS O, so the data can be graphed ##\n",
    "y=Price_of_Housing['Price of House Not Along River'].dropna().unique()"
   ]
  },
  {
   "cell_type": "code",
   "execution_count": 20,
   "metadata": {},
   "outputs": [],
   "source": [
    "## Getting ride of the NAN from the House Prices along the river i.e. CHAS 1, so the data can be graphed ##\n",
    "z=Price_of_Housing['Price of House Along River'].dropna().unique()\n"
   ]
  },
  {
   "cell_type": "code",
   "execution_count": 21,
   "metadata": {},
   "outputs": [
    {
     "data": {
      "text/plain": [
       "<function matplotlib.pyplot.show(*args, **kw)>"
      ]
     },
     "execution_count": 21,
     "metadata": {},
     "output_type": "execute_result"
    },
    {
     "data": {
      "image/png": "[encoded data removed]",
      "text/plain": [
       "<Figure size 432x288 with 1 Axes>"
      ]
     },
     "metadata": {
      "needs_background": "light"
     },
     "output_type": "display_data"
    }
   ],
   "source": [
    "##sns.distplot(x)\n",
    "## sns.distplot(y)\n",
    "##sns.distplot(z)\n",
    "\n",
    "##sm.qqplot(x, dist=\"norm\")\n",
    "\n",
    "qqplot(x, line='s')\n",
    "plt.show\n",
    "\n",
    "\n"
   ]
  },
  {
   "cell_type": "code",
   "execution_count": 22,
   "metadata": {},
   "outputs": [
    {
     "data": {
      "text/plain": [
       "<function matplotlib.pyplot.show(*args, **kw)>"
      ]
     },
     "execution_count": 22,
     "metadata": {},
     "output_type": "execute_result"
    },
    {
     "data": {
      "image/png": "[encoded data removed]",
      "text/plain": [
       "<Figure size 432x288 with 1 Axes>"
      ]
     },
     "metadata": {
      "needs_background": "light"
     },
     "output_type": "display_data"
    }
   ],
   "source": [
    "## creating Quantile Plots ## \n",
    "stats.probplot(x, dist=\"norm\", plot=plt)\n",
    "plt.show"
   ]
  },
  {
   "cell_type": "code",
   "execution_count": 23,
   "metadata": {},
   "outputs": [
    {
     "data": {
      "image/png": "[encoded data removed]",
      "text/plain": [
       "<Figure size 432x288 with 3 Axes>"
      ]
     },
     "metadata": {
      "needs_background": "light"
     },
     "output_type": "display_data"
    }
   ],
   "source": [
    "## Creating Distribution Sub Plots of the 3 Sets of Data ##\n",
    "\n",
    "plt.subplot(1,3,1)\n",
    "sns.distplot(x)\n",
    "\n",
    "plt.subplot(1,3,2)\n",
    "sns.distplot(y)\n",
    "\n",
    "plt.subplot(1,3,3)\n",
    "sns.distplot(z)\n",
    "\n",
    "plt.show()\n"
   ]
  },
  {
   "cell_type": "code",
   "execution_count": 24,
   "metadata": {},
   "outputs": [
    {
     "name": "stdout",
     "output_type": "stream",
     "text": [
      "AndersonResult(statistic=11.822483502722775, critical_values=array([0.572, 0.651, 0.781, 0.911, 1.084]), significance_level=array([15. , 10. ,  5. ,  2.5,  1. ]))\n"
     ]
    }
   ],
   "source": [
    "## Checking for Normality Using the Anderson Darling Test for the Original House Prices i.e. Along and Not Along the River ##\n",
    "anderson_results_x = stats.anderson(x, dist='norm')\n",
    "print(anderson_results_x)"
   ]
  },
  {
   "cell_type": "code",
   "execution_count": 25,
   "metadata": {},
   "outputs": [
    {
     "name": "stdout",
     "output_type": "stream",
     "text": [
      "AndersonResult(statistic=1.9618480590904142, critical_values=array([0.566, 0.645, 0.773, 0.902, 1.073]), significance_level=array([15. , 10. ,  5. ,  2.5,  1. ]))\n"
     ]
    }
   ],
   "source": [
    "## Checking for Normality Using the Anderson Darling Test for House Prices not along the river i.e. CHAS O, so the data can be graphed ## \n",
    "anderson_results_y = stats.anderson(y, dist='norm')\n",
    "print(anderson_results_y)"
   ]
  },
  {
   "cell_type": "code",
   "execution_count": 26,
   "metadata": {},
   "outputs": [
    {
     "name": "stdout",
     "output_type": "stream",
     "text": [
      "AndersonResult(statistic=0.9219888160312699, critical_values=array([0.518, 0.59 , 0.708, 0.826, 0.983]), significance_level=array([15. , 10. ,  5. ,  2.5,  1. ]))\n"
     ]
    }
   ],
   "source": [
    "## Checking for Normality Using the Anderson Darling Test for House Prices along the river i.e. CHAS 1, so the data can be graphed ##\n",
    "anderson_results_z = stats.anderson(z, dist='norm')\n",
    "print(anderson_results_z)"
   ]
  },
  {
   "cell_type": "code",
   "execution_count": 27,
   "metadata": {},
   "outputs": [
    {
     "data": {
      "text/plain": [
       "LeveneResult(statistic=2.2364910643871942, pvalue=0.13606309495719288)"
      ]
     },
     "execution_count": 27,
     "metadata": {},
     "output_type": "execute_result"
    }
   ],
   "source": [
    "## Performing Levenes Test to determine equal variance ##\n",
    "stats.levene(y,z)"
   ]
  },
  {
   "cell_type": "code",
   "execution_count": 28,
   "metadata": {},
   "outputs": [
    {
     "data": {
      "text/plain": [
       "BartlettResult(statistic=0.9118499303668617, pvalue=0.3396240537825935)"
      ]
     },
     "execution_count": 28,
     "metadata": {},
     "output_type": "execute_result"
    }
   ],
   "source": [
    "## Performing Bartletts Test to determine equal variance ##\n",
    "stats.bartlett(y,z)"
   ]
  },
  {
   "cell_type": "code",
   "execution_count": 29,
   "metadata": {},
   "outputs": [],
   "source": [
    "## Setting my inputs ans outputs for the neural network##\n",
    "inputs = house[['B','DIS', 'RM', 'CRIM','CHAS']]\n",
    "outputs = house[['PRICE']]"
   ]
  },
  {
   "cell_type": "code",
   "execution_count": 30,
   "metadata": {},
   "outputs": [
    {
     "name": "stdout",
     "output_type": "stream",
     "text": [
      "WARNING:tensorflow:From C:\\Users\\Shane\\Anaconda3\\lib\\site-packages\\tensorflow\\python\\ops\\resource_variable_ops.py:435: colocate_with (from tensorflow.python.framework.ops) is deprecated and will be removed in a future version.\n",
      "Instructions for updating:\n",
      "Colocations handled automatically by placer.\n"
     ]
    }
   ],
   "source": [
    "## Creating a Neural Network ##\n",
    "\n",
    "m=ks.models.Sequential()\n",
    "m.add(ks.layers.Dense(10,input_dim=5, activation='linear'))\n",
    "m.add(ks.layers.Dense(10, activation='linear'))\n",
    "m.add(ks.layers.Dense(1, activation='linear'))"
   ]
  },
  {
   "cell_type": "code",
   "execution_count": 31,
   "metadata": {},
   "outputs": [],
   "source": [
    "m.compile(loss='mean_squared_error',optimizer='adam')"
   ]
  },
  {
   "cell_type": "code",
   "execution_count": 32,
   "metadata": {},
   "outputs": [
    {
     "name": "stdout",
     "output_type": "stream",
     "text": [
      "WARNING:tensorflow:From C:\\Users\\Shane\\Anaconda3\\lib\\site-packages\\tensorflow\\python\\ops\\math_ops.py:3066: to_int32 (from tensorflow.python.ops.math_ops) is deprecated and will be removed in a future version.\n",
      "Instructions for updating:\n",
      "Use tf.cast instead.\n",
      "Epoch 1/10\n",
      "506/506 [==============================] - 0s 437us/step - loss: 106.1108\n",
      "Epoch 2/10\n",
      "506/506 [==============================] - 0s 156us/step - loss: 93.5209\n",
      "Epoch 3/10\n",
      "506/506 [==============================] - 0s 121us/step - loss: 87.7030\n",
      "Epoch 4/10\n",
      "506/506 [==============================] - 0s 115us/step - loss: 90.1476\n",
      "Epoch 5/10\n",
      "506/506 [==============================] - 0s 111us/step - loss: 85.9979\n",
      "Epoch 6/10\n",
      "506/506 [==============================] - 0s 150us/step - loss: 87.3336\n",
      "Epoch 7/10\n",
      "506/506 [==============================] - 0s 138us/step - loss: 88.9331\n",
      "Epoch 8/10\n",
      "506/506 [==============================] - 0s 142us/step - loss: 81.2664\n",
      "Epoch 9/10\n",
      "506/506 [==============================] - 0s 150us/step - loss: 77.2599\n",
      "Epoch 10/10\n",
      "506/506 [==============================] - 0s 172us/step - loss: 82.5821\n"
     ]
    },
    {
     "data": {
      "text/plain": [
       "<keras.callbacks.callbacks.History at 0x1a5041d38d0>"
      ]
     },
     "execution_count": 32,
     "metadata": {},
     "output_type": "execute_result"
    }
   ],
   "source": [
    "## Training the Neural Network ##\n",
    "\n",
    "m.fit(inputs,outputs,epochs=10,batch_size=11)"
   ]
  },
  {
   "cell_type": "code",
   "execution_count": 33,
   "metadata": {},
   "outputs": [
    {
     "data": {
      "text/plain": [
       "array([[ 25.970144  ],\n",
       "       [ 25.547964  ],\n",
       "       [ 25.935947  ],\n",
       "       [ 25.515156  ],\n",
       "       [ 25.746479  ],\n",
       "       [ 25.037102  ],\n",
       "       [ 24.938469  ],\n",
       "       [ 24.990509  ],\n",
       "       [ 23.947176  ],\n",
       "       [ 24.08686   ],\n",
       "       [ 24.764502  ],\n",
       "       [ 24.775023  ],\n",
       "       [ 24.601824  ],\n",
       "       [ 25.109266  ],\n",
       "       [ 24.398079  ],\n",
       "       [ 25.01975   ],\n",
       "       [ 24.521214  ],\n",
       "       [ 24.707935  ],\n",
       "       [ 19.173557  ],\n",
       "       [ 24.894602  ],\n",
       "       [ 23.863876  ],\n",
       "       [ 25.06457   ],\n",
       "       [ 25.356922  ],\n",
       "       [ 24.98998   ],\n",
       "       [ 25.024345  ],\n",
       "       [ 19.833153  ],\n",
       "       [ 23.921917  ],\n",
       "       [ 20.319899  ],\n",
       "       [ 25.109856  ],\n",
       "       [ 24.852179  ],\n",
       "       [ 22.979107  ],\n",
       "       [ 24.11886   ],\n",
       "       [ 16.32003   ],\n",
       "       [ 23.03874   ],\n",
       "       [ 17.302359  ],\n",
       "       [ 25.690723  ],\n",
       "       [ 24.56267   ],\n",
       "       [ 25.42802   ],\n",
       "       [ 25.338818  ],\n",
       "       [ 25.472002  ],\n",
       "       [ 25.81079   ],\n",
       "       [ 24.928654  ],\n",
       "       [ 24.337944  ],\n",
       "       [ 24.963606  ],\n",
       "       [ 24.587133  ],\n",
       "       [ 24.880026  ],\n",
       "       [ 24.958391  ],\n",
       "       [ 24.720308  ],\n",
       "       [ 24.376078  ],\n",
       "       [ 24.472746  ],\n",
       "       [ 24.476065  ],\n",
       "       [ 24.522673  ],\n",
       "       [ 24.992311  ],\n",
       "       [ 24.585762  ],\n",
       "       [ 24.337858  ],\n",
       "       [ 24.90457   ],\n",
       "       [ 24.10195   ],\n",
       "       [ 24.522058  ],\n",
       "       [ 24.005724  ],\n",
       "       [ 24.476574  ],\n",
       "       [ 24.122404  ],\n",
       "       [ 23.515814  ],\n",
       "       [ 24.796515  ],\n",
       "       [ 24.710766  ],\n",
       "       [ 24.466255  ],\n",
       "       [ 24.889488  ],\n",
       "       [ 24.487917  ],\n",
       "       [ 24.557682  ],\n",
       "       [ 24.349709  ],\n",
       "       [ 24.582718  ],\n",
       "       [ 24.713253  ],\n",
       "       [ 23.96805   ],\n",
       "       [ 24.819187  ],\n",
       "       [ 24.19679   ],\n",
       "       [ 25.55121   ],\n",
       "       [ 24.84411   ],\n",
       "       [ 24.473286  ],\n",
       "       [ 25.069328  ],\n",
       "       [ 24.809727  ],\n",
       "       [ 25.210049  ],\n",
       "       [ 25.641994  ],\n",
       "       [ 25.486988  ],\n",
       "       [ 25.30552   ],\n",
       "       [ 24.861681  ],\n",
       "       [ 25.579763  ],\n",
       "       [ 25.636751  ],\n",
       "       [ 25.351648  ],\n",
       "       [ 25.613993  ],\n",
       "       [ 26.525185  ],\n",
       "       [ 26.54052   ],\n",
       "       [ 25.91556   ],\n",
       "       [ 25.981688  ],\n",
       "       [ 25.896261  ],\n",
       "       [ 25.787098  ],\n",
       "       [ 25.861523  ],\n",
       "       [ 24.086348  ],\n",
       "       [ 25.542536  ],\n",
       "       [ 27.328114  ],\n",
       "       [ 26.9587    ],\n",
       "       [ 26.82245   ],\n",
       "       [ 26.380777  ],\n",
       "       [ 26.450079  ],\n",
       "       [  8.6937275 ],\n",
       "       [ 25.90191   ],\n",
       "       [ 25.946634  ],\n",
       "       [ 25.876019  ],\n",
       "       [ 25.906616  ],\n",
       "       [ 25.748186  ],\n",
       "       [ 26.326622  ],\n",
       "       [ 25.844568  ],\n",
       "       [ 25.9       ],\n",
       "       [ 26.461605  ],\n",
       "       [ 25.893282  ],\n",
       "       [ 26.050299  ],\n",
       "       [ 25.857742  ],\n",
       "       [ 23.163618  ],\n",
       "       [ 25.884758  ],\n",
       "       [ 25.816095  ],\n",
       "       [ 22.786604  ],\n",
       "       [ 25.421335  ],\n",
       "       [ 25.592762  ],\n",
       "       [ 25.101023  ],\n",
       "       [ 25.121244  ],\n",
       "       [ 24.652695  ],\n",
       "       [ 25.151207  ],\n",
       "       [ 25.526472  ],\n",
       "       [ 23.87016   ],\n",
       "       [ 25.721392  ],\n",
       "       [ 26.54075   ],\n",
       "       [ 25.714458  ],\n",
       "       [ 26.35565   ],\n",
       "       [ 26.085955  ],\n",
       "       [ 25.655169  ],\n",
       "       [ 25.393248  ],\n",
       "       [ 18.44494   ],\n",
       "       [ 26.186094  ],\n",
       "       [ 25.097462  ],\n",
       "       [ 26.38798   ],\n",
       "       [ 25.890482  ],\n",
       "       [ 26.31168   ],\n",
       "       [ 25.937927  ],\n",
       "       [ 25.217747  ],\n",
       "       [ 25.448963  ],\n",
       "       [ 24.965225  ],\n",
       "       [ 24.868582  ],\n",
       "       [ 13.866191  ],\n",
       "       [ 13.294964  ],\n",
       "       [ 24.672052  ],\n",
       "       [ 22.996622  ],\n",
       "       [ 22.946878  ],\n",
       "       [ 24.730276  ],\n",
       "       [ 22.53      ],\n",
       "       [ 22.7059    ],\n",
       "       [ 18.312105  ],\n",
       "       [ 22.276735  ],\n",
       "       [  9.226576  ],\n",
       "       [  8.525986  ],\n",
       "       [ 24.899635  ],\n",
       "       [ 23.699991  ],\n",
       "       [ 24.589926  ],\n",
       "       [ 23.35478   ],\n",
       "       [ 25.833826  ],\n",
       "       [ 27.093622  ],\n",
       "       [ 27.524517  ],\n",
       "       [ 25.301044  ],\n",
       "       [ 17.035166  ],\n",
       "       [ 25.74514   ],\n",
       "       [ 16.415577  ],\n",
       "       [ 20.489584  ],\n",
       "       [ 22.23664   ],\n",
       "       [ 20.042976  ],\n",
       "       [ 22.786947  ],\n",
       "       [ 25.641827  ],\n",
       "       [ 26.231966  ],\n",
       "       [ 25.65043   ],\n",
       "       [ 25.934017  ],\n",
       "       [ 25.49543   ],\n",
       "       [ 25.941093  ],\n",
       "       [ 26.273045  ],\n",
       "       [ 26.70256   ],\n",
       "       [ 27.281565  ],\n",
       "       [ 26.11318   ],\n",
       "       [ 26.726751  ],\n",
       "       [ 26.354605  ],\n",
       "       [ 25.232218  ],\n",
       "       [ 25.36666   ],\n",
       "       [ 27.024872  ],\n",
       "       [ 26.054602  ],\n",
       "       [ 25.008417  ],\n",
       "       [ 26.275314  ],\n",
       "       [ 24.410847  ],\n",
       "       [ 24.895193  ],\n",
       "       [ 25.2815    ],\n",
       "       [ 25.239805  ],\n",
       "       [ 24.188934  ],\n",
       "       [ 26.333931  ],\n",
       "       [ 25.446217  ],\n",
       "       [ 23.009806  ],\n",
       "       [ 25.183596  ],\n",
       "       [ 25.084814  ],\n",
       "       [ 24.53736   ],\n",
       "       [ 24.73443   ],\n",
       "       [ 25.974571  ],\n",
       "       [ 26.411268  ],\n",
       "       [ 26.438837  ],\n",
       "       [ 25.442717  ],\n",
       "       [ 25.51813   ],\n",
       "       [ 24.788492  ],\n",
       "       [ 24.953852  ],\n",
       "       [ 25.267393  ],\n",
       "       [ 25.625109  ],\n",
       "       [ 25.311295  ],\n",
       "       [ 25.443937  ],\n",
       "       [ 25.229452  ],\n",
       "       [ 22.562744  ],\n",
       "       [ 25.482485  ],\n",
       "       [ 25.832924  ],\n",
       "       [ 26.01035   ],\n",
       "       [ 26.162153  ],\n",
       "       [ 26.167238  ],\n",
       "       [ 26.624033  ],\n",
       "       [ 26.114267  ],\n",
       "       [ 26.291986  ],\n",
       "       [ 26.12662   ],\n",
       "       [ 27.000008  ],\n",
       "       [ 27.14754   ],\n",
       "       [ 26.821177  ],\n",
       "       [ 25.293583  ],\n",
       "       [ 25.97637   ],\n",
       "       [ 25.191807  ],\n",
       "       [ 24.507685  ],\n",
       "       [ 25.544142  ],\n",
       "       [ 26.720488  ],\n",
       "       [ 26.3982    ],\n",
       "       [ 24.462362  ],\n",
       "       [ 24.56333   ],\n",
       "       [ 25.722172  ],\n",
       "       [ 26.078537  ],\n",
       "       [ 24.229982  ],\n",
       "       [ 24.561947  ],\n",
       "       [ 25.140745  ],\n",
       "       [ 24.686802  ],\n",
       "       [ 23.48475   ],\n",
       "       [ 23.611877  ],\n",
       "       [ 22.52842   ],\n",
       "       [ 23.437037  ],\n",
       "       [ 23.822151  ],\n",
       "       [ 23.19628   ],\n",
       "       [ 23.368757  ],\n",
       "       [ 24.612555  ],\n",
       "       [ 24.722765  ],\n",
       "       [ 23.631659  ],\n",
       "       [ 24.05522   ],\n",
       "       [ 25.599398  ],\n",
       "       [ 23.649841  ],\n",
       "       [ 23.591976  ],\n",
       "       [ 25.343597  ],\n",
       "       [ 27.891176  ],\n",
       "       [ 26.412663  ],\n",
       "       [ 26.450201  ],\n",
       "       [ 26.778997  ],\n",
       "       [ 26.784647  ],\n",
       "       [ 27.3544    ],\n",
       "       [ 26.850609  ],\n",
       "       [ 26.575775  ],\n",
       "       [ 25.43891   ],\n",
       "       [ 26.09054   ],\n",
       "       [ 27.09006   ],\n",
       "       [ 26.601255  ],\n",
       "       [ 25.497965  ],\n",
       "       [ 24.767792  ],\n",
       "       [ 25.55112   ],\n",
       "       [ 25.867172  ],\n",
       "       [ 26.690607  ],\n",
       "       [ 26.417715  ],\n",
       "       [ 26.109756  ],\n",
       "       [ 26.159979  ],\n",
       "       [ 26.021156  ],\n",
       "       [ 25.860987  ],\n",
       "       [ 26.103708  ],\n",
       "       [ 26.232698  ],\n",
       "       [ 25.63556   ],\n",
       "       [ 25.67313   ],\n",
       "       [ 26.672333  ],\n",
       "       [ 25.179165  ],\n",
       "       [ 24.674246  ],\n",
       "       [ 21.03801   ],\n",
       "       [ 24.587376  ],\n",
       "       [ 24.669815  ],\n",
       "       [ 23.51423   ],\n",
       "       [ 25.845316  ],\n",
       "       [ 26.062365  ],\n",
       "       [ 25.661558  ],\n",
       "       [ 25.120682  ],\n",
       "       [ 25.02706   ],\n",
       "       [ 25.393     ],\n",
       "       [ 25.091516  ],\n",
       "       [ 24.563871  ],\n",
       "       [ 22.97523   ],\n",
       "       [ 23.710161  ],\n",
       "       [ 24.615442  ],\n",
       "       [ 25.442108  ],\n",
       "       [ 24.699047  ],\n",
       "       [ 25.451084  ],\n",
       "       [ 26.332594  ],\n",
       "       [ 26.041887  ],\n",
       "       [ 26.957006  ],\n",
       "       [ 26.481817  ],\n",
       "       [ 26.155348  ],\n",
       "       [ 25.701262  ],\n",
       "       [ 22.066784  ],\n",
       "       [ 25.90072   ],\n",
       "       [ 25.85723   ],\n",
       "       [ 25.74774   ],\n",
       "       [ 25.971561  ],\n",
       "       [ 25.23989   ],\n",
       "       [ 25.063887  ],\n",
       "       [ 25.299864  ],\n",
       "       [ 25.813974  ],\n",
       "       [ 25.479101  ],\n",
       "       [ 25.660063  ],\n",
       "       [ 25.616842  ],\n",
       "       [ 25.247534  ],\n",
       "       [ 24.689375  ],\n",
       "       [ 25.547197  ],\n",
       "       [ 25.190676  ],\n",
       "       [ 25.241472  ],\n",
       "       [ 25.075207  ],\n",
       "       [ 24.237679  ],\n",
       "       [ 24.217766  ],\n",
       "       [ 23.494432  ],\n",
       "       [ 24.257153  ],\n",
       "       [ 22.809696  ],\n",
       "       [ 24.57088   ],\n",
       "       [ 24.552837  ],\n",
       "       [ 24.897839  ],\n",
       "       [ 25.019037  ],\n",
       "       [ 24.799288  ],\n",
       "       [ 25.2701    ],\n",
       "       [ 25.246668  ],\n",
       "       [ 25.231546  ],\n",
       "       [ 25.391218  ],\n",
       "       [ 24.833092  ],\n",
       "       [ 25.510021  ],\n",
       "       [ 24.923286  ],\n",
       "       [ 23.594564  ],\n",
       "       [ 22.363155  ],\n",
       "       [ 24.186663  ],\n",
       "       [ 24.2662    ],\n",
       "       [ 24.29508   ],\n",
       "       [ 24.309423  ],\n",
       "       [ 22.325972  ],\n",
       "       [ 22.93527   ],\n",
       "       [ 22.720491  ],\n",
       "       [ 22.296099  ],\n",
       "       [ 22.133247  ],\n",
       "       [ 23.372787  ],\n",
       "       [ 25.407896  ],\n",
       "       [ 25.003275  ],\n",
       "       [ 24.735785  ],\n",
       "       [ 24.018991  ],\n",
       "       [ 22.867058  ],\n",
       "       [ 23.886799  ],\n",
       "       [ 22.984972  ],\n",
       "       [ 25.618635  ],\n",
       "       [ 20.996992  ],\n",
       "       [ 20.198393  ],\n",
       "       [  7.010231  ],\n",
       "       [ 23.245115  ],\n",
       "       [ 24.704906  ],\n",
       "       [ 25.70331   ],\n",
       "       [ 22.699862  ],\n",
       "       [ 22.011477  ],\n",
       "       [ 22.84215   ],\n",
       "       [ 20.393097  ],\n",
       "       [ 22.576872  ],\n",
       "       [ 21.299212  ],\n",
       "       [ 24.602196  ],\n",
       "       [ 20.800268  ],\n",
       "       [ 21.95397   ],\n",
       "       [  4.8903923 ],\n",
       "       [ 22.834244  ],\n",
       "       [ 23.687525  ],\n",
       "       [ 23.989964  ],\n",
       "       [ 14.099965  ],\n",
       "       [ 21.623322  ],\n",
       "       [ 19.213497  ],\n",
       "       [ 19.92284   ],\n",
       "       [ 20.583567  ],\n",
       "       [ 23.781332  ],\n",
       "       [ 24.136368  ],\n",
       "       [ 23.878405  ],\n",
       "       [ 22.62765   ],\n",
       "       [ 24.274546  ],\n",
       "       [ 22.853214  ],\n",
       "       [ 24.234575  ],\n",
       "       [ 25.175993  ],\n",
       "       [ 24.012405  ],\n",
       "       [ 16.345362  ],\n",
       "       [ 20.621885  ],\n",
       "       [ 20.069778  ],\n",
       "       [ 23.065786  ],\n",
       "       [ 23.136292  ],\n",
       "       [ 19.585861  ],\n",
       "       [ 11.94272   ],\n",
       "       [  8.499632  ],\n",
       "       [ 18.387941  ],\n",
       "       [ 19.663952  ],\n",
       "       [ 19.814367  ],\n",
       "       [ 11.750073  ],\n",
       "       [ -7.8076425 ],\n",
       "       [  3.9060817 ],\n",
       "       [  0.75585324],\n",
       "       [  8.49929   ],\n",
       "       [ -2.9132693 ],\n",
       "       [  2.1953993 ],\n",
       "       [  3.9877932 ],\n",
       "       [  4.7793365 ],\n",
       "       [-12.645846  ],\n",
       "       [  5.231094  ],\n",
       "       [ 19.607748  ],\n",
       "       [ 20.36531   ],\n",
       "       [ 17.266266  ],\n",
       "       [  3.3033106 ],\n",
       "       [  2.4863553 ],\n",
       "       [  1.2470398 ],\n",
       "       [  2.9889753 ],\n",
       "       [ -3.3567567 ],\n",
       "       [  8.393889  ],\n",
       "       [  6.0997896 ],\n",
       "       [  7.481242  ],\n",
       "       [  7.347158  ],\n",
       "       [  8.786165  ],\n",
       "       [  9.092892  ],\n",
       "       [  6.879346  ],\n",
       "       [  8.432394  ],\n",
       "       [  3.0912838 ],\n",
       "       [  1.7082586 ],\n",
       "       [  5.151579  ],\n",
       "       [ 23.629269  ],\n",
       "       [ 20.299437  ],\n",
       "       [ 23.492634  ],\n",
       "       [ 24.904512  ],\n",
       "       [ 23.565233  ],\n",
       "       [ 14.513701  ],\n",
       "       [  4.871703  ],\n",
       "       [ 20.643122  ],\n",
       "       [ 23.412317  ],\n",
       "       [ 23.938704  ],\n",
       "       [ 19.612818  ],\n",
       "       [  3.6801195 ],\n",
       "       [ 23.015676  ],\n",
       "       [ 24.41839   ],\n",
       "       [ 23.973373  ],\n",
       "       [  3.247268  ],\n",
       "       [  6.6796703 ],\n",
       "       [  4.039739  ],\n",
       "       [  2.6808453 ],\n",
       "       [ 17.541185  ],\n",
       "       [ 24.336367  ],\n",
       "       [ 17.744215  ],\n",
       "       [ 25.105503  ],\n",
       "       [ 24.554781  ],\n",
       "       [ 24.731012  ],\n",
       "       [ 24.095285  ],\n",
       "       [ 21.51151   ],\n",
       "       [  4.767345  ],\n",
       "       [ 21.399384  ],\n",
       "       [ 20.435474  ],\n",
       "       [ 22.436487  ],\n",
       "       [ 24.912935  ],\n",
       "       [ 24.933317  ],\n",
       "       [ 25.178907  ],\n",
       "       [ 24.456545  ],\n",
       "       [ 21.214231  ],\n",
       "       [ 19.609013  ],\n",
       "       [ 25.241245  ],\n",
       "       [ 19.314598  ],\n",
       "       [ 22.81732   ],\n",
       "       [ 22.09337   ],\n",
       "       [ 24.471659  ],\n",
       "       [ 24.729195  ],\n",
       "       [ 25.062958  ],\n",
       "       [ 24.402792  ],\n",
       "       [ 23.531246  ],\n",
       "       [ 24.429873  ],\n",
       "       [ 24.135166  ],\n",
       "       [ 24.075825  ],\n",
       "       [ 25.708063  ],\n",
       "       [ 22.943666  ],\n",
       "       [ 21.281431  ],\n",
       "       [ 25.85584   ],\n",
       "       [ 26.138544  ],\n",
       "       [ 25.812485  ],\n",
       "       [ 25.959879  ],\n",
       "       [ 25.44739   ],\n",
       "       [ 25.391502  ],\n",
       "       [ 25.68617   ],\n",
       "       [ 26.034628  ],\n",
       "       [ 25.634813  ],\n",
       "       [ 26.01481   ],\n",
       "       [ 26.247337  ],\n",
       "       [ 26.204308  ],\n",
       "       [ 26.920742  ],\n",
       "       [ 26.503891  ],\n",
       "       [ 26.05919   ]], dtype=float32)"
      ]
     },
     "execution_count": 33,
     "metadata": {},
     "output_type": "execute_result"
    }
   ],
   "source": [
    "\n",
    "m.predict(inputs)"
   ]
  },
  {
   "cell_type": "code",
   "execution_count": 88,
   "metadata": {},
   "outputs": [
    {
     "data": {
      "image/png": "[encoded data removed]",
      "text/plain": [
       "<Figure size 432x288 with 12 Axes>"
      ]
     },
     "metadata": {
      "needs_background": "light"
     },
     "output_type": "display_data"
    }
   ],
   "source": [
    "## Creating Subplots of Price vrs all out Column Variables ##\n",
    "\n",
    "fig, axes = plt.subplots(nrows=4, ncols=3)\n",
    "\n",
    "house.plot(ax=axes[0,0],kind='scatter',x='PRICE',y='CRIM')\n",
    "house.plot(ax=axes[0,1],kind='scatter',x='PRICE',y='INDUS')\n",
    "house.plot(ax=axes[0,2],kind='scatter',x='CHAS',y='PRICE')\n",
    "house.plot(ax=axes[1,0],kind='scatter',x='PRICE',y='NOX')\n",
    "house.plot(ax=axes[1,1],kind='scatter',x='PRICE',y='RM')\n",
    "house.plot(ax=axes[1,2],kind='scatter',x='PRICE',y='AGE')\n",
    "house.plot(ax=axes[2,0],kind='scatter',x='PRICE',y='DIS')\n",
    "house.plot(ax=axes[2,1],kind='scatter',x='PRICE',y='RAD')\n",
    "house.plot(ax=axes[2,2],kind='scatter',x='PRICE',y='TAX')\n",
    "house.plot(ax=axes[3,0],kind='scatter',x='PRICE',y='PTRATIO')\n",
    "house.plot(ax=axes[3,1],kind='scatter',x='PRICE',y='B')\n",
    "house.plot(ax=axes[3,2],kind='scatter',x='PRICE',y='LSTAT')\n",
    "\n",
    "plt.subplots_adjust(top=0.92, bottom=0.08, left=0.10, right=0.95, hspace=1.25,wspace=1.35)\n"
   ]
  },
  {
   "cell_type": "code",
   "execution_count": null,
   "metadata": {},
   "outputs": [],
   "source": [
    "sns.catplot(x=\"PRICE\", y=\"NOX\", hue=\"CHAS\", kind=\"bar\", data=house)"
   ]
  },
  {
   "cell_type": "code",
   "execution_count": null,
   "metadata": {},
   "outputs": [],
   "source": []
  },
  {
   "cell_type": "code",
   "execution_count": null,
   "metadata": {},
   "outputs": [],
   "source": []
  },
  {
   "cell_type": "code",
   "execution_count": null,
   "metadata": {},
   "outputs": [],
   "source": []
  },
  {
   "cell_type": "code",
   "execution_count": null,
   "metadata": {},
   "outputs": [],
   "source": []
  },
  {
   "cell_type": "code",
   "execution_count": null,
   "metadata": {},
   "outputs": [],
   "source": []
  },
  {
   "cell_type": "code",
   "execution_count": null,
   "metadata": {},
   "outputs": [],
   "source": []
  },
  {
   "cell_type": "code",
   "execution_count": null,
   "metadata": {},
   "outputs": [],
   "source": []
  },
  {
   "cell_type": "code",
   "execution_count": null,
   "metadata": {},
   "outputs": [],
   "source": []
  },
  {
   "cell_type": "code",
   "execution_count": null,
   "metadata": {},
   "outputs": [],
   "source": []
  },
  {
   "cell_type": "code",
   "execution_count": null,
   "metadata": {},
   "outputs": [],
   "source": []
  }
 ],
 "metadata": {
  "kernelspec": {
   "display_name": "Python 3",
   "language": "python",
   "name": "python3"
  },
  "language_info": {
   "codemirror_mode": {
    "name": "ipython",
    "version": 3
   },
   "file_extension": ".py",
   "mimetype": "text/x-python",
   "name": "python",
   "nbconvert_exporter": "python",
   "pygments_lexer": "ipython3",
   "version": "3.7.3"
  }
 },
 "nbformat": 4,
 "nbformat_minor": 4
}
